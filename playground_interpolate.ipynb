{
 "cells": [
  {
   "cell_type": "code",
   "execution_count": 1,
   "metadata": {},
   "outputs": [],
   "source": [
    "import glworia.amplification_factor\n",
    "import glworia.lens_functions\n",
    "from glworia.amplification_factor import *\n",
    "from glworia.lens_functions import *\n",
    "import glworia.lens_functions\n",
    "from glworia.lens_functions import *\n",
    "import glworia.contour\n",
    "from glworia.contour import *\n",
    "import glworia.utils\n",
    "from glworia.utils import *\n",
    "import glworia.root\n",
    "from glworia.root import *\n",
    "import glworia.plot\n",
    "from glworia.plot import *"
   ]
  },
  {
   "cell_type": "code",
   "execution_count": 2,
   "metadata": {},
   "outputs": [],
   "source": [
    "from importlib import reload"
   ]
  },
  {
   "cell_type": "code",
   "execution_count": 3,
   "metadata": {},
   "outputs": [],
   "source": [
    "reload(glworia.amplification_factor)\n",
    "reload(glworia.lens_functions)\n",
    "from glworia.amplification_factor import *\n",
    "from glworia.lens_functions import *\n",
    "reload(glworia.lens_functions)\n",
    "from glworia.lens_functions import *\n",
    "reload(glworia.contour)\n",
    "from glworia.contour import *\n",
    "reload(glworia.utils)\n",
    "from glworia.utils import *\n",
    "reload(glworia.root)\n",
    "from glworia.root import *\n",
    "reload(glworia.plot)\n",
    "from glworia.plot import *"
   ]
  },
  {
   "cell_type": "code",
   "execution_count": 4,
   "metadata": {},
   "outputs": [],
   "source": [
    "from jax.config import config\n",
    "config.update(\"jax_enable_x64\", True)"
   ]
  },
  {
   "cell_type": "code",
   "execution_count": 5,
   "metadata": {},
   "outputs": [],
   "source": [
    "import matplotlib.pyplot as plt\n",
    "from tqdm import tqdm"
   ]
  },
  {
   "cell_type": "code",
   "execution_count": 6,
   "metadata": {},
   "outputs": [],
   "source": [
    "T_funcs, helper_funcs = amplification_computation_prep(Psi_NFW)\n",
    "crit_curve_helper_funcs = make_crit_curve_helper_func(T_funcs)"
   ]
  },
  {
   "cell_type": "code",
   "execution_count": 7,
   "metadata": {},
   "outputs": [
    {
     "name": "stderr",
     "output_type": "stream",
     "text": [
      "2023-05-20 19:49:33.098614: W external/xla/xla/service/gpu/nvptx_compiler.cc:564] The NVIDIA driver's CUDA version is 12.0 which is older than the ptxas CUDA version (12.1.105). Because the driver is older than the ptxas version, XLA is disabling parallel compilation, which may slow down compilation. You should update your NVIDIA driver or use the NVIDIA-provided CUDA forward compatibility packages.\n"
     ]
    }
   ],
   "source": [
    "param_arr = jnp.linspace(0.1, 10., 100000)\n",
    "crit_funcs = crtical_curve_interpolants(param_arr, T_funcs, crit_curve_helper_funcs)"
   ]
  },
  {
   "cell_type": "code",
   "execution_count": 8,
   "metadata": {},
   "outputs": [],
   "source": [
    "kappa_low = 0.1\n",
    "kappa_high = 10.0\n",
    "y_low = 0.1\n",
    "y_high = 5.0\n",
    "N_grid = 15\n",
    "N_grid_strong = 30\n",
    "N_crit = 60\n",
    "T0_max = 1000\n",
    "N = 200\n",
    "\n",
    "kappa_arr = jnp.linspace(kappa_low, kappa_high, num = N_grid)\n",
    "y_arr = jnp.linspace(y_low, y_high, num = N_grid)\n",
    "kappa_arr_strong = jnp.linspace(kappa_low, kappa_high, num = N_grid_strong)\n",
    "y_arr_strong = jnp.linspace(y_low, y_high, num = N_grid_strong)"
   ]
  },
  {
   "cell_type": "code",
   "execution_count": 9,
   "metadata": {},
   "outputs": [],
   "source": [
    "grid_points = make_points_arr_mesh(y_arr, kappa_arr)\n",
    "grid_points_strong = make_points_arr_mesh(y_arr_strong, kappa_arr_strong)"
   ]
  },
  {
   "cell_type": "code",
   "execution_count": 10,
   "metadata": {},
   "outputs": [],
   "source": [
    "lens_param_to_y_crit = crit_funcs['lens_param_to_y_crit']\n",
    "y_crit_to_lens_param = crit_funcs['y_crit_to_lens_param']\n",
    "y_crit_to_x_crit = crit_funcs['y_crit_to_x_crit']\n",
    "\n",
    "@partial(jnp.vectorize, signature = '(n,2)->(n)')\n",
    "def is_strong(point):\n",
    "    return lens_param_to_y_crit(point[:,1]) > point[:,0]"
   ]
  },
  {
   "cell_type": "code",
   "execution_count": 11,
   "metadata": {},
   "outputs": [],
   "source": [
    "weak_points = grid_points[~is_strong(grid_points)]\n",
    "strong_points = grid_points_strong[is_strong(grid_points_strong)]"
   ]
  },
  {
   "cell_type": "code",
   "execution_count": 12,
   "metadata": {},
   "outputs": [
    {
     "name": "stdout",
     "output_type": "stream",
     "text": [
      "6.586206896551724\n"
     ]
    }
   ],
   "source": [
    "print(strong_points[50][1])"
   ]
  },
  {
   "cell_type": "code",
   "execution_count": 13,
   "metadata": {},
   "outputs": [],
   "source": [
    "u_strong_min_out_list = []\n",
    "u_strong_sad_max_list = []"
   ]
  },
  {
   "cell_type": "code",
   "execution_count": 14,
   "metadata": {},
   "outputs": [
    {
     "name": "stderr",
     "output_type": "stream",
     "text": [
      "100%|██████████| 162/162 [04:41<00:00,  1.74s/it]\n"
     ]
    }
   ],
   "source": [
    "for y0, kappa in tqdm(strong_points):\n",
    "    y =jnp.array([y0, 0.])\n",
    "    lens_params = jnp.array([kappa])\n",
    "    contour_int = amplification_computation_for_interpolation(\n",
    "                T_funcs, \n",
    "                helper_funcs, \n",
    "                crit_funcs, \n",
    "                y, \n",
    "                lens_params, \n",
    "                crit_run = False,\n",
    "                N = N,\n",
    "                T0_max = T0_max)\n",
    "    u_strong_min_out_list.append(contour_int.u_min_out)\n",
    "    u_strong_sad_max_list.append(contour_int.u_sad_max)"
   ]
  },
  {
   "cell_type": "code",
   "execution_count": 15,
   "metadata": {},
   "outputs": [
    {
     "data": {
      "text/plain": [
       "(162, 2)"
      ]
     },
     "execution_count": 15,
     "metadata": {},
     "output_type": "execute_result"
    }
   ],
   "source": [
    "strong_points.shape"
   ]
  },
  {
   "cell_type": "code",
   "execution_count": 16,
   "metadata": {},
   "outputs": [],
   "source": [
    "kappa_crit_points = jnp.linspace(kappa_low, kappa_high, num = N_crit)\n",
    "x_crit_points, y_crit_points = get_crit_curve_1D(kappa_crit_points, T_funcs, crit_curve_helper_funcs, x_hi = 100.)"
   ]
  },
  {
   "cell_type": "code",
   "execution_count": 17,
   "metadata": {},
   "outputs": [],
   "source": [
    "crit_points = jnp.vstack([y_crit_points, kappa_crit_points]).T"
   ]
  },
  {
   "cell_type": "code",
   "execution_count": 18,
   "metadata": {},
   "outputs": [],
   "source": [
    "boundary_crit_points = jnp.array([[y_arr[0], y_crit_to_lens_param(y_arr[0])],\n",
    "                                  [y_arr[-1], y_crit_to_lens_param(y_arr[-1])]])\n",
    "boundary_crit_points = boundary_crit_points[~jnp.isnan(boundary_crit_points).any(axis = 1)]"
   ]
  },
  {
   "cell_type": "code",
   "execution_count": 19,
   "metadata": {},
   "outputs": [],
   "source": [
    "crit_points_all = jnp.vstack([boundary_crit_points, crit_points])\n",
    "y_crit_points_all = jnp.append((boundary_crit_points[:,0]), y_crit_points)\n",
    "x_crit_points_all = jnp.append((y_crit_to_x_crit(boundary_crit_points[:,0])), -x_crit_points)\n",
    "kappa_crit_points_all = jnp.append((boundary_crit_points[:,1]), kappa_crit_points)\n",
    "\n",
    "in_bound = crit_points_all[:, 0] >= 0.1\n",
    "\n",
    "crit_points_in_bound = crit_points_all[in_bound]\n",
    "y_crit_points_in_bound = y_crit_points_all[in_bound]\n",
    "x_crit_points_in_bound = x_crit_points_all[in_bound]\n",
    "kappa_crit_points_in_bound = kappa_crit_points_all[in_bound]"
   ]
  },
  {
   "cell_type": "code",
   "execution_count": 20,
   "metadata": {},
   "outputs": [],
   "source": [
    "crit_bisect_x_low = -10\n",
    "crit_bisect_x_high = 10\n",
    "crit_bisect_x_num = 100\n",
    "crit_x_init_arr = jnp.linspace(\n",
    "    crit_bisect_x_low, \n",
    "    crit_bisect_x_high, \n",
    "    crit_bisect_x_num)\n",
    "\n",
    "crit_screen_round_decimal = 8\n",
    "\n",
    "newt_cond_fun = helper_funcs['newt_cond_fun']\n",
    "newt_step_fun = helper_funcs['newt_step_fun']\n",
    "\n",
    "get_crit_points_1D_vec = jnp.vectorize(\n",
    "    get_crit_points_1D, \n",
    "    excluded = {0, 1, 2, 5},\n",
    "    signature = '(),()->(3)')\n",
    "get_crit_points_2D_arr = lambda x: get_crit_points_1D_vec(\n",
    "    crit_x_init_arr, \n",
    "    newt_cond_fun, \n",
    "    newt_step_fun,  \n",
    "    x[:, 0], x[:, 1], \n",
    "    crit_screen_round_decimal)"
   ]
  },
  {
   "cell_type": "code",
   "execution_count": 21,
   "metadata": {},
   "outputs": [],
   "source": [
    "crit_image_x_newt = get_crit_points_2D_arr(crit_points_in_bound)\n",
    "crit_sad_x, crit_max_x, crit_min_x = jnp.hsplit(crit_image_x_newt, crit_image_x_newt.shape[1])"
   ]
  },
  {
   "cell_type": "code",
   "execution_count": 22,
   "metadata": {},
   "outputs": [],
   "source": [
    "crit_image_x = jnp.vstack([x_crit_points_in_bound, x_crit_points_in_bound, crit_min_x.ravel()]).T"
   ]
  },
  {
   "cell_type": "code",
   "execution_count": 23,
   "metadata": {},
   "outputs": [],
   "source": [
    "T_1D_vec = T_funcs['T_1D_vec']"
   ]
  },
  {
   "cell_type": "code",
   "execution_count": 24,
   "metadata": {},
   "outputs": [],
   "source": [
    "crit_T_vir = T_1D_vec(x_crit_points_in_bound, crit_points_in_bound[:,0], crit_points_in_bound[:,1], Psi_NFW)"
   ]
  },
  {
   "cell_type": "code",
   "execution_count": 25,
   "metadata": {},
   "outputs": [],
   "source": [
    "crit_sad_x, crit_max_x, crit_min_x = jnp.hsplit(crit_image_x, crit_image_x.shape[1])"
   ]
  },
  {
   "cell_type": "code",
   "execution_count": 26,
   "metadata": {},
   "outputs": [],
   "source": [
    "u_crit_min_out_list = []\n",
    "u_crit_sad_max_list = []\n",
    "mu_min_crit_list = []"
   ]
  },
  {
   "cell_type": "code",
   "execution_count": 27,
   "metadata": {},
   "outputs": [],
   "source": [
    "for y0, kappa in tqdm(crit_points_in_bound):\n",
    "    y =jnp.array([y0, 0.])\n",
    "    lens_params = jnp.array([kappa])\n",
    "    contour_int = amplification_computation_for_interpolation(\n",
    "                T_funcs, \n",
    "                helper_funcs, \n",
    "                crit_funcs, \n",
    "                y, \n",
    "                lens_params, \n",
    "                crit_run = True,\n",
    "                N = N,\n",
    "                T0_max = T0_max)\n",
    "    u_crit_min_out_list.append(contour_int.u_min_out)\n",
    "    u_crit_sad_max_list.append(contour_int.u_sad_max)\n",
    "    mu_min_crit_list.append(contour_int.mu_min)"
   ]
  },
  {
   "cell_type": "code",
   "execution_count": 28,
   "metadata": {},
   "outputs": [],
   "source": [
    "u_strong_full_min_out = jnp.array(u_strong_min_out_list + u_crit_min_out_list)\n",
    "u_strong_full_sad_max = jnp.array(u_strong_sad_max_list + u_crit_sad_max_list)\n",
    "strong_full_points = jnp.vstack([strong_points, crit_points_in_bound])"
   ]
  },
  {
   "cell_type": "code",
   "execution_count": 29,
   "metadata": {},
   "outputs": [],
   "source": [
    "from scipy.interpolate import LinearNDInterpolator"
   ]
  },
  {
   "cell_type": "code",
   "execution_count": 30,
   "metadata": {},
   "outputs": [],
   "source": [
    "u_points_low = u_strong_full_min_out[:,0,:]\n",
    "u_points_mid_1 = u_strong_full_min_out[:,1,:]\n",
    "u_points_mid_2 = u_strong_full_min_out[:,2,:]\n",
    "u_points_high = u_strong_full_min_out[:,3,:]"
   ]
  },
  {
   "cell_type": "code",
   "execution_count": 31,
   "metadata": {},
   "outputs": [],
   "source": [
    "interp_low = LinearNDInterpolator(strong_full_points, u_points_low)\n",
    "interp_mid_1 = LinearNDInterpolator(strong_full_points, u_points_mid_1)\n",
    "interp_mid_2 = LinearNDInterpolator(strong_full_points, u_points_mid_2)\n",
    "interp_high = LinearNDInterpolator(strong_full_points, u_points_high)\n",
    "interp_sad_max = LinearNDInterpolator(strong_full_points, u_strong_full_sad_max)"
   ]
  },
  {
   "cell_type": "code",
   "execution_count": 32,
   "metadata": {},
   "outputs": [],
   "source": [
    "import pickle\n",
    "import os\n",
    "\n",
    "interpolate_dir_name = f'y_{y_low:.3f}_{y_high:.3f}_kappa_{kappa_low:.3f}_{kappa_high:.3f}_N_grid_{N_grid}_N_grid_strong_{N_grid_strong}_N_crit_{N_crit}_N_{N}'\n",
    "\n",
    "os.makedirs(f'./interpolation/{interpolate_dir_name}', exist_ok = True)\n",
    "\n",
    "with open(f'./interpolation/{interpolate_dir_name}/interp_strong_low.pkl', 'wb') as f:\n",
    "    pickle.dump(interp_low, f)\n",
    "\n",
    "with open(f'./interpolation/{interpolate_dir_name}/interp_strong_mid_1.pkl', 'wb') as f:\n",
    "    pickle.dump(interp_mid_1, f)\n",
    "\n",
    "with open(f'./interpolation/{interpolate_dir_name}/interp_strong_mid_2.pkl', 'wb') as f:\n",
    "    pickle.dump(interp_mid_2, f)\n",
    "\n",
    "with open(f'./interpolation/{interpolate_dir_name}/interp_strong_high.pkl', 'wb') as f:\n",
    "    pickle.dump(interp_high, f)\n",
    "\n",
    "with open(f'./interpolation/{interpolate_dir_name}/interp_strong_sad_max.pkl', 'wb') as f:\n",
    "    pickle.dump(interp_sad_max, f)"
   ]
  },
  {
   "cell_type": "code",
   "execution_count": 41,
   "metadata": {},
   "outputs": [],
   "source": [
    "u_weak_min_out_list = []\n",
    "T_vir_list = []\n",
    "mu_min_weak_list = []"
   ]
  },
  {
   "cell_type": "code",
   "execution_count": 42,
   "metadata": {},
   "outputs": [
    {
     "name": "stderr",
     "output_type": "stream",
     "text": [
      "100%|██████████| 182/182 [03:57<00:00,  1.31s/it]\n"
     ]
    }
   ],
   "source": [
    "for y0, kappa in tqdm(weak_points):\n",
    "    y =jnp.array([y0, 0.])\n",
    "    lens_params = jnp.array([kappa])\n",
    "    contour_int = amplification_computation_for_interpolation(\n",
    "                T_funcs, \n",
    "                helper_funcs, \n",
    "                crit_funcs, \n",
    "                y, \n",
    "                lens_params, \n",
    "                crit_run = False,\n",
    "                N = N,\n",
    "                T0_max = T0_max)\n",
    "    u_weak_min_out_list.append(contour_int.u_min_out)\n",
    "    T_vir_list.append(contour_int.T_vir)\n",
    "    mu_min_weak_list.append(contour_int.mu_min)"
   ]
  },
  {
   "cell_type": "code",
   "execution_count": 43,
   "metadata": {},
   "outputs": [],
   "source": [
    "u_weak_full_min_out = jnp.array(u_weak_min_out_list + u_crit_min_out_list)\n",
    "weak_full_points = jnp.vstack([weak_points, crit_points_in_bound])\n",
    "T_vir_full = jnp.array(T_vir_list + crit_T_vir.tolist())\n",
    "mu_min_weak_full = jnp.array(mu_min_weak_list + mu_min_crit_list)"
   ]
  },
  {
   "cell_type": "code",
   "execution_count": 44,
   "metadata": {},
   "outputs": [],
   "source": [
    "u_weak_points_low = u_weak_full_min_out[:,0,:]\n",
    "u_weak_points_mid_1 = u_weak_full_min_out[:,1,:]\n",
    "u_weak_points_mid_2 = u_weak_full_min_out[:,2,:]\n",
    "u_weak_points_high = u_weak_full_min_out[:,3,:]"
   ]
  },
  {
   "cell_type": "code",
   "execution_count": 45,
   "metadata": {},
   "outputs": [],
   "source": [
    "interp_weak_low = LinearNDInterpolator(weak_full_points, u_weak_points_low)\n",
    "interp_weak_mid_1 = LinearNDInterpolator(weak_full_points, u_weak_points_mid_1)\n",
    "interp_weak_mid_2 = LinearNDInterpolator(weak_full_points, u_weak_points_mid_2)\n",
    "interp_weak_high = LinearNDInterpolator(weak_full_points, u_weak_points_high)\n",
    "interp_T_vir = LinearNDInterpolator(weak_full_points, T_vir_full)\n",
    "interp_mu_min_weak = LinearNDInterpolator(weak_full_points, mu_min_weak_full)"
   ]
  },
  {
   "cell_type": "code",
   "execution_count": 46,
   "metadata": {},
   "outputs": [],
   "source": [
    "with open(f'./interpolation/{interpolate_dir_name}/interp_weak_low.pkl', 'wb') as f:\n",
    "    pickle.dump(interp_weak_low, f)\n",
    "\n",
    "with open(f'./interpolation/{interpolate_dir_name}/interp_weak_mid_1.pkl', 'wb') as f:\n",
    "    pickle.dump(interp_weak_mid_1, f)\n",
    "\n",
    "with open(f'./interpolation/{interpolate_dir_name}/interp_weak_mid_2.pkl', 'wb') as f:\n",
    "    pickle.dump(interp_weak_mid_2, f)\n",
    "\n",
    "with open(f'./interpolation/{interpolate_dir_name}/interp_weak_high.pkl', 'wb') as f:\n",
    "    pickle.dump(interp_weak_high, f)\n",
    "\n",
    "with open(f'./interpolation/{interpolate_dir_name}/interp_T_vir.pkl', 'wb') as f:\n",
    "    pickle.dump(interp_T_vir, f)\n",
    "\n",
    "with open(f'./interpolation/{interpolate_dir_name}/interp_mu_min_weak.pkl', 'wb') as f:\n",
    "    pickle.dump(interp_mu_min_weak, f)"
   ]
  },
  {
   "cell_type": "code",
   "execution_count": 54,
   "metadata": {},
   "outputs": [],
   "source": [
    "reload(glworia.amplification_factor)\n",
    "reload(glworia.lens_functions)\n",
    "from glworia.amplification_factor import *\n",
    "from glworia.lens_functions import *\n",
    "reload(glworia.lens_functions)\n",
    "from glworia.lens_functions import *\n",
    "reload(glworia.contour)\n",
    "from glworia.contour import *\n",
    "reload(glworia.utils)\n",
    "from glworia.utils import *\n",
    "reload(glworia.root)\n",
    "from glworia.root import *\n",
    "reload(glworia.plot)\n",
    "from glworia.plot import *"
   ]
  },
  {
   "cell_type": "code",
   "execution_count": null,
   "metadata": {},
   "outputs": [],
   "source": []
  }
 ],
 "metadata": {
  "kernelspec": {
   "display_name": "glworia",
   "language": "python",
   "name": "python3"
  },
  "language_info": {
   "codemirror_mode": {
    "name": "ipython",
    "version": 3
   },
   "file_extension": ".py",
   "mimetype": "text/x-python",
   "name": "python",
   "nbconvert_exporter": "python",
   "pygments_lexer": "ipython3",
   "version": "3.9.2"
  },
  "orig_nbformat": 4
 },
 "nbformat": 4,
 "nbformat_minor": 2
}
