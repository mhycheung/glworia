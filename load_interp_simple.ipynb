{
 "cells": [
  {
   "cell_type": "code",
   "execution_count": 35,
   "metadata": {},
   "outputs": [],
   "source": [
    "import glworia.load_interp\n",
    "from glworia.load_interp import *\n",
    "import bilby_scripts.waveform\n",
    "from bilby_scripts.waveform import *\n",
    "import bilby"
   ]
  },
  {
   "cell_type": "code",
   "execution_count": 36,
   "metadata": {},
   "outputs": [],
   "source": [
    "import configparser\n",
    "import matplotlib.pyplot as plt"
   ]
  },
  {
   "cell_type": "code",
   "execution_count": 37,
   "metadata": {},
   "outputs": [],
   "source": [
    "from importlib import reload"
   ]
  },
  {
   "cell_type": "code",
   "execution_count": 38,
   "metadata": {},
   "outputs": [],
   "source": [
    "reload(glworia.load_interp)\n",
    "from glworia.load_interp import *\n",
    "reload(bilby_scripts.waveform)\n",
    "from bilby_scripts.waveform import *"
   ]
  },
  {
   "cell_type": "code",
   "execution_count": 85,
   "metadata": {},
   "outputs": [],
   "source": [
    "lp_name = 'kappa'\n",
    "\n",
    "settings = {\n",
    "    'lens_param_name': lp_name,\n",
    "    'y_low': 0.1,\n",
    "    'y_high': 5.0,\n",
    "    lp_name + '_low': 0.1,\n",
    "    lp_name + '_high': 10.,\n",
    "    'N_grid': 30,\n",
    "    'N_grid_strong': 60,\n",
    "    'N_crit': 60,\n",
    "    'N': 200,\n",
    "    'lens_model_name': 'NFW',\n",
    "\n",
    "    'T0_max': 1000,\n",
    "\n",
    "    'y_low_im': 0.1,\n",
    "    'y_high_im': 5.0,\n",
    "    lp_name + '_low_im': 0.1,\n",
    "    lp_name + '_high_im': 10.,\n",
    "    'N_grid_im': 1000,\n",
    "    'N_crit_im': 1000,\n",
    "}"
   ]
  },
  {
   "cell_type": "code",
   "execution_count": 86,
   "metadata": {},
   "outputs": [
    {
     "data": {
      "text/plain": [
       "['./bilby_scripts/config/NFW_arr1_fast/MLz_500_y_1.0000_kappa_1.0000.ini']"
      ]
     },
     "execution_count": 86,
     "metadata": {},
     "output_type": "execute_result"
    }
   ],
   "source": [
    "config = configparser.ConfigParser()\n",
    "config.optionxform = str\n",
    "config.read('./bilby_scripts/config/NFW_arr1_fast/MLz_500_y_1.0000_kappa_1.0000.ini')"
   ]
  },
  {
   "cell_type": "code",
   "execution_count": 87,
   "metadata": {},
   "outputs": [],
   "source": [
    "injection_parameters = dict(config.items('injection_parameters'))\n",
    "interpolator_settings = dict(config.items('interpolator_settings'))\n",
    "prior_settings = dict(config.items('prior_settings'))\n",
    "waveform_arguments = dict(config.items('waveform_arguments'))\n",
    "sampler_settings = dict(config.items('sampler_settings'))\n",
    "misc = dict(config.items('misc'))\n",
    "\n",
    "def is_number(s):\n",
    "    try:\n",
    "        float(s)\n",
    "        return True\n",
    "    except ValueError:\n",
    "        return False\n",
    "    \n",
    "for d in [injection_parameters, interpolator_settings, prior_settings, waveform_arguments, sampler_settings, misc]:\n",
    "    for key, value in d.items():\n",
    "        if is_number(value):\n",
    "            d[key] = eval(value)\n",
    "        elif value == 'True':\n",
    "            d[key] = True\n",
    "        elif value == 'False':\n",
    "            d[key] = False\n"
   ]
  },
  {
   "cell_type": "code",
   "execution_count": 88,
   "metadata": {},
   "outputs": [],
   "source": [
    "duration = misc['duration']\n",
    "sampling_frequency = misc['sampling_frequency']\n",
    "minimum_frequency = misc['minimum_frequency']"
   ]
  },
  {
   "cell_type": "code",
   "execution_count": 89,
   "metadata": {},
   "outputs": [
    {
     "name": "stderr",
     "output_type": "stream",
     "text": [
      "02:09 bilby INFO    : Waveform generator initiated with\n",
      "  frequency_domain_source_model: bilby_scripts.waveform.lal_binary_black_hole_lensed\n",
      "  time_domain_source_model: None\n",
      "  parameter_conversion: bilby.gw.conversion.convert_to_lal_binary_black_hole_parameters\n",
      "02:09 bilby INFO    : Waveform generator initiated with\n",
      "  frequency_domain_source_model: bilby_scripts.waveform.lal_binary_black_hole_unlensed\n",
      "  time_domain_source_model: None\n",
      "  parameter_conversion: bilby.gw.conversion.convert_to_lal_binary_black_hole_parameters\n"
     ]
    }
   ],
   "source": [
    "waveform_generator = bilby.gw.WaveformGenerator(\n",
    "    duration=duration,\n",
    "    sampling_frequency=sampling_frequency,\n",
    "    frequency_domain_source_model=lal_binary_black_hole_lensed,\n",
    "    parameter_conversion=bilby.gw.conversion.convert_to_lal_binary_black_hole_parameters,\n",
    "    waveform_arguments=waveform_arguments,\n",
    ")\n",
    "\n",
    "waveform_generator_ul = waveform_generator = bilby.gw.WaveformGenerator(\n",
    "    duration=duration,\n",
    "    sampling_frequency=sampling_frequency,\n",
    "    frequency_domain_source_model=lal_binary_black_hole_unlensed,\n",
    "    parameter_conversion=bilby.gw.conversion.convert_to_lal_binary_black_hole_parameters,\n",
    "    waveform_arguments=waveform_arguments,\n",
    ")"
   ]
  },
  {
   "cell_type": "code",
   "execution_count": 90,
   "metadata": {},
   "outputs": [],
   "source": [
    "interpolators = load_interpolators('./interpolation', **settings)\n",
    "F_interp_loaded = lambda w, y, kappa: F_interp(w, y, kappa, interpolators, interpolator_settings)\n",
    "\n",
    "# Fixed arguments passed into the source model\n",
    "waveform_arguments.update(F_interp = F_interp_loaded)"
   ]
  },
  {
   "cell_type": "code",
   "execution_count": 91,
   "metadata": {},
   "outputs": [
    {
     "data": {
      "text/plain": [
       "dict_keys(['mass_1', 'mass_2', 'a_1', 'a_2', 'tilt_1', 'tilt_2', 'phi_12', 'phi_jl', 'luminosity_distance', 'theta_jn', 'psi', 'phase', 'MLz', 'geocent_time', 'ra', 'dec', 'y', 'kappa'])"
      ]
     },
     "execution_count": 91,
     "metadata": {},
     "output_type": "execute_result"
    }
   ],
   "source": [
    "injection_parameters.keys()"
   ]
  },
  {
   "cell_type": "code",
   "execution_count": 92,
   "metadata": {},
   "outputs": [],
   "source": [
    "injection_parameters['y'] = 0.1\n",
    "injection_parameters['MLz'] = 2000"
   ]
  },
  {
   "cell_type": "code",
   "execution_count": 93,
   "metadata": {},
   "outputs": [],
   "source": [
    "wf = waveform_generator.frequency_domain_strain(injection_parameters)\n",
    "wf_ul = waveform_generator_ul.frequency_domain_strain(injection_parameters)"
   ]
  },
  {
   "cell_type": "code",
   "execution_count": 94,
   "metadata": {},
   "outputs": [
    {
     "data": {
      "text/plain": [
       "array([0.00000e+00, 2.50000e-01, 5.00000e-01, ..., 1.02350e+03,\n",
       "       1.02375e+03, 1.02400e+03])"
      ]
     },
     "execution_count": 94,
     "metadata": {},
     "output_type": "execute_result"
    }
   ],
   "source": [
    "waveform_generator.frequency_array"
   ]
  },
  {
   "cell_type": "code",
   "execution_count": 95,
   "metadata": {},
   "outputs": [
    {
     "data": {
      "text/plain": [
       "(10, 2000)"
      ]
     },
     "execution_count": 95,
     "metadata": {},
     "output_type": "execute_result"
    },
    {
     "data": {
      "image/png": "[encoded data removed]",
      "text/plain": [
       "<Figure size 640x480 with 1 Axes>"
      ]
     },
     "metadata": {},
     "output_type": "display_data"
    }
   ],
   "source": [
    "plt.loglog(waveform_generator.frequency_array, np.abs(wf['plus']))\n",
    "plt.loglog(waveform_generator_ul.frequency_array, np.abs(wf_ul['plus']))\n",
    "plt.xlim(10, 2000)"
   ]
  },
  {
   "cell_type": "code",
   "execution_count": null,
   "metadata": {},
   "outputs": [],
   "source": [
    "lal_binary_black_hole_lensed()"
   ]
  },
  {
   "cell_type": "code",
   "execution_count": 5,
   "metadata": {},
   "outputs": [],
   "source": [
    "def strong_lens_cond_override_gSIS(strongly_lensed, y_interp, kappa_interp):\n",
    "    if np.abs(kappa_interp - 1.) < 1e-15:\n",
    "        if y_interp < 1.:\n",
    "            strongly_lensed = True\n",
    "        else:\n",
    "            strongly_lensed = False\n",
    "    return strongly_lensed"
   ]
  },
  {
   "cell_type": "code",
   "execution_count": 25,
   "metadata": {},
   "outputs": [],
   "source": [
    "w_interp = np.linspace(0.001, 1e4, 10**6)"
   ]
  },
  {
   "cell_type": "code",
   "execution_count": 8,
   "metadata": {},
   "outputs": [],
   "source": [
    "y_interp = 2.0\n",
    "lp_interp = 0.1"
   ]
  },
  {
   "cell_type": "code",
   "execution_count": 9,
   "metadata": {},
   "outputs": [],
   "source": [
    "M_sun = 4.925492321898863e-06\n",
    "w_fac = 8*np.pi*M_sun"
   ]
  },
  {
   "cell_type": "code",
   "execution_count": 10,
   "metadata": {},
   "outputs": [
    {
     "name": "stderr",
     "output_type": "stream",
     "text": [
      "/home/mcheung1/Lensing/Glworia_jax/glworia_jax/glworia/load_interp.py:210: RuntimeWarning: divide by zero encountered in divide\n",
      "  return (1 + np.tanh((x - x0)/a))/2\n"
     ]
    }
   ],
   "source": [
    "F, F_g, partitions, T_im, mu_im, u0, u1, u2, u3, um = F_interp(w_interp, y_interp, lp_interp, interpolators, settings,\n",
    "             return_geom = True, \n",
    "             strong_lens_cond_override = strong_lens_cond_override_gSIS\n",
    "             )"
   ]
  },
  {
   "cell_type": "code",
   "execution_count": 28,
   "metadata": {},
   "outputs": [
    {
     "data": {
      "text/plain": [
       "[0, 0, 0]"
      ]
     },
     "execution_count": 28,
     "metadata": {},
     "output_type": "execute_result"
    }
   ],
   "source": [
    "T_im"
   ]
  },
  {
   "cell_type": "code",
   "execution_count": 29,
   "metadata": {},
   "outputs": [
    {
     "data": {
      "text/plain": [
       "[0, 0, array(17.28561422)]"
      ]
     },
     "execution_count": 29,
     "metadata": {},
     "output_type": "execute_result"
    }
   ],
   "source": [
    "mu_im"
   ]
  },
  {
   "cell_type": "code",
   "execution_count": 30,
   "metadata": {},
   "outputs": [
    {
     "data": {
      "text/plain": [
       "array([0.       , 0.1851888, 3.703776 ])"
      ]
     },
     "execution_count": 30,
     "metadata": {},
     "output_type": "execute_result"
    }
   ],
   "source": [
    "partitions"
   ]
  },
  {
   "cell_type": "code",
   "execution_count": 31,
   "metadata": {},
   "outputs": [
    {
     "data": {
      "text/plain": [
       "array([2.93813126-0.0793624j , 3.74092877-0.51766578j,\n",
       "       4.02464678-0.49210598j, ..., 4.15759717+0.j        ,\n",
       "       4.15759717+0.j        , 4.15759717+0.j        ])"
      ]
     },
     "execution_count": 31,
     "metadata": {},
     "output_type": "execute_result"
    }
   ],
   "source": [
    "F"
   ]
  },
  {
   "cell_type": "code",
   "execution_count": 36,
   "metadata": {},
   "outputs": [
    {
     "data": {
      "text/plain": [
       "[<matplotlib.lines.Line2D at 0x1554ff0eab50>]"
      ]
     },
     "execution_count": 36,
     "metadata": {},
     "output_type": "execute_result"
    },
    {
     "data": {
      "image/png": "[encoded data removed]",
      "text/plain": [
       "<Figure size 1200x500 with 2 Axes>"
      ]
     },
     "metadata": {},
     "output_type": "display_data"
    }
   ],
   "source": [
    "fig, axs = plt.subplots(1, 2, figsize = (12, 5))\n",
    "axs[0].semilogx(w_interp/w_fac/500, np.abs(F))\n",
    "# axs[0].semilogx(w_interp, np.abs(F_g), alpha = 0.5)\n",
    "axs[1].semilogx(w_interp/w_fac/500, np.angle(F))"
   ]
  },
  {
   "cell_type": "code",
   "execution_count": 54,
   "metadata": {},
   "outputs": [],
   "source": [
    "F_scale = np.max(np.abs(F-1))/2"
   ]
  },
  {
   "cell_type": "code",
   "execution_count": 55,
   "metadata": {},
   "outputs": [
    {
     "data": {
      "text/plain": [
       "(0.001, 10.0)"
      ]
     },
     "execution_count": 55,
     "metadata": {},
     "output_type": "execute_result"
    },
    {
     "data": {
      "image/png": "[encoded data removed]",
      "text/plain": [
       "<Figure size 640x480 with 1 Axes>"
      ]
     },
     "metadata": {},
     "output_type": "display_data"
    }
   ],
   "source": [
    "fig, ax = plt.subplots()\n",
    "ax.loglog(w_interp, np.abs((F-F_g)/F_scale))\n",
    "ax.set_ylim(1e-3, 1e1)"
   ]
  },
  {
   "cell_type": "code",
   "execution_count": null,
   "metadata": {},
   "outputs": [],
   "source": []
  },
  {
   "cell_type": "code",
   "execution_count": null,
   "metadata": {},
   "outputs": [],
   "source": []
  }
 ],
 "metadata": {
  "kernelspec": {
   "display_name": "glworia",
   "language": "python",
   "name": "python3"
  },
  "language_info": {
   "codemirror_mode": {
    "name": "ipython",
    "version": 3
   },
   "file_extension": ".py",
   "mimetype": "text/x-python",
   "name": "python",
   "nbconvert_exporter": "python",
   "pygments_lexer": "ipython3",
   "version": "3.8.5"
  },
  "orig_nbformat": 4
 },
 "nbformat": 4,
 "nbformat_minor": 2
}
