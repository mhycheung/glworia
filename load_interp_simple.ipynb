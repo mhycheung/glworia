{
 "cells": [
  {
   "cell_type": "code",
   "execution_count": 1,
   "metadata": {},
   "outputs": [],
   "source": [
    "import glworia.load_interp\n",
    "from glworia.load_interp import *"
   ]
  },
  {
   "cell_type": "code",
   "execution_count": 2,
   "metadata": {},
   "outputs": [],
   "source": [
    "from importlib import reload"
   ]
  },
  {
   "cell_type": "code",
   "execution_count": 3,
   "metadata": {},
   "outputs": [],
   "source": [
    "reload(glworia.load_interp)\n",
    "from glworia.load_interp import *"
   ]
  },
  {
   "cell_type": "code",
   "execution_count": 4,
   "metadata": {},
   "outputs": [],
   "source": [
    "settings = {\n",
    "    'y_low': 0.1,\n",
    "    'y_high': 5.0,\n",
    "    'kappa_low': 0.1,\n",
    "    'kappa_high': 10.0,\n",
    "    'N_grid': 30,\n",
    "    'N_grid_strong': 60,\n",
    "    'N_crit': 60,\n",
    "    'N': 200,\n",
    "    'lens_model_name': 'NFW',\n",
    "\n",
    "    'T0_max': 1000,\n",
    "\n",
    "    'y_low_im': 0.1,\n",
    "    'y_high_im': 5.0,\n",
    "    'kappa_low_im': 0.1,\n",
    "    'kappa_high_im': 10.0,\n",
    "    'N_grid_im': 1000,\n",
    "    'N_crit_im': 1000,\n",
    "}"
   ]
  },
  {
   "cell_type": "code",
   "execution_count": 5,
   "metadata": {},
   "outputs": [],
   "source": [
    "interpolators = load_interpolators('./interpolation', **settings)"
   ]
  },
  {
   "cell_type": "code",
   "execution_count": 6,
   "metadata": {},
   "outputs": [],
   "source": [
    "w_interp = np.linspace(0.001, 1e4, 10**4)"
   ]
  },
  {
   "cell_type": "code",
   "execution_count": 7,
   "metadata": {},
   "outputs": [],
   "source": [
    "y_interp = 1.0\n",
    "kappa_interp = 3.0"
   ]
  },
  {
   "cell_type": "code",
   "execution_count": 8,
   "metadata": {},
   "outputs": [
    {
     "name": "stderr",
     "output_type": "stream",
     "text": [
      "/home/mcheung1/Lensing/Glworia_jax/glworia_jax/glworia/load_interp.py:186: RuntimeWarning: divide by zero encountered in divide\n",
      "  return (1 + np.tanh((x - x0)/a))/2\n"
     ]
    }
   ],
   "source": [
    "F = F_interp(w_interp, y_interp, kappa_interp, interpolators, settings)"
   ]
  },
  {
   "cell_type": "code",
   "execution_count": 9,
   "metadata": {},
   "outputs": [],
   "source": [
    "import matplotlib.pyplot as plt"
   ]
  },
  {
   "cell_type": "code",
   "execution_count": null,
   "metadata": {},
   "outputs": [],
   "source": []
  }
 ],
 "metadata": {
  "kernelspec": {
   "display_name": "glworia",
   "language": "python",
   "name": "python3"
  },
  "language_info": {
   "codemirror_mode": {
    "name": "ipython",
    "version": 3
   },
   "file_extension": ".py",
   "mimetype": "text/x-python",
   "name": "python",
   "nbconvert_exporter": "python",
   "pygments_lexer": "ipython3",
   "version": "3.8.5"
  },
  "orig_nbformat": 4
 },
 "nbformat": 4,
 "nbformat_minor": 2
}
