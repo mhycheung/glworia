{
 "cells": [
  {
   "cell_type": "code",
   "execution_count": 1,
   "metadata": {},
   "outputs": [],
   "source": [
    "import glworia.amplification_factor\n",
    "import glworia.lens_functions\n",
    "from glworia.amplification_factor import *\n",
    "from glworia.lens_functions import *\n",
    "import glworia.lens_functions\n",
    "from glworia.lens_functions import *\n",
    "import glworia.contour\n",
    "from glworia.contour import *\n",
    "import glworia.utils\n",
    "from glworia.utils import *\n",
    "import glworia.root\n",
    "from glworia.root import *\n",
    "import glworia.plot\n",
    "from glworia.plot import *"
   ]
  },
  {
   "cell_type": "code",
   "execution_count": 2,
   "metadata": {},
   "outputs": [],
   "source": [
    "from importlib import reload"
   ]
  },
  {
   "cell_type": "code",
   "execution_count": 3,
   "metadata": {},
   "outputs": [],
   "source": [
    "reload(glworia.amplification_factor)\n",
    "reload(glworia.lens_functions)\n",
    "from glworia.amplification_factor import *\n",
    "from glworia.lens_functions import *\n",
    "reload(glworia.lens_functions)\n",
    "from glworia.lens_functions import *\n",
    "reload(glworia.contour)\n",
    "from glworia.contour import *\n",
    "reload(glworia.utils)\n",
    "from glworia.utils import *\n",
    "reload(glworia.root)\n",
    "from glworia.root import *\n",
    "reload(glworia.plot)\n",
    "from glworia.plot import *"
   ]
  },
  {
   "cell_type": "code",
   "execution_count": 4,
   "metadata": {},
   "outputs": [],
   "source": [
    "from jax.config import config\n",
    "config.update(\"jax_enable_x64\", True)"
   ]
  },
  {
   "cell_type": "code",
   "execution_count": 5,
   "metadata": {},
   "outputs": [],
   "source": [
    "import matplotlib.pyplot as plt"
   ]
  },
  {
   "cell_type": "code",
   "execution_count": 6,
   "metadata": {},
   "outputs": [],
   "source": [
    "y_low = 0.1\n",
    "y_high = 5.0\n",
    "kappa_low = 0.1\n",
    "kappa_high = 10.0\n",
    "N_grid = 30\n",
    "N_grid_strong = 60\n",
    "N_crit = 60\n",
    "N = 200\n",
    "lens_model_name = 'NFW'\n",
    "\n",
    "T0_max = 1000"
   ]
  },
  {
   "cell_type": "code",
   "execution_count": 7,
   "metadata": {},
   "outputs": [
    {
     "name": "stderr",
     "output_type": "stream",
     "text": [
      "2023-05-21 21:09:46.136135: W external/xla/xla/service/gpu/nvptx_compiler.cc:564] The NVIDIA driver's CUDA version is 12.0 which is older than the ptxas CUDA version (12.1.105). Because the driver is older than the ptxas version, XLA is disabling parallel compilation, which may slow down compilation. You should update your NVIDIA driver or use the NVIDIA-provided CUDA forward compatibility packages.\n"
     ]
    },
    {
     "data": {
      "text/plain": [
       "Array([0.1       , 0.26896552, 0.43793103, 0.60689655, 0.77586207,\n",
       "       0.94482759, 1.1137931 , 1.28275862, 1.45172414, 1.62068966,\n",
       "       1.78965517, 1.95862069, 2.12758621, 2.29655172, 2.46551724,\n",
       "       2.63448276, 2.80344828, 2.97241379, 3.14137931, 3.31034483,\n",
       "       3.47931034, 3.64827586, 3.81724138, 3.9862069 , 4.15517241,\n",
       "       4.32413793, 4.49310345, 4.66206897, 4.83103448, 5.        ],      dtype=float64)"
      ]
     },
     "execution_count": 7,
     "metadata": {},
     "output_type": "execute_result"
    }
   ],
   "source": [
    "jnp.linspace(y_low, y_high, N_grid)"
   ]
  },
  {
   "cell_type": "code",
   "execution_count": 8,
   "metadata": {},
   "outputs": [
    {
     "data": {
      "text/plain": [
       "Array([ 0.1       ,  0.44137931,  0.78275862,  1.12413793,  1.46551724,\n",
       "        1.80689655,  2.14827586,  2.48965517,  2.83103448,  3.17241379,\n",
       "        3.5137931 ,  3.85517241,  4.19655172,  4.53793103,  4.87931034,\n",
       "        5.22068966,  5.56206897,  5.90344828,  6.24482759,  6.5862069 ,\n",
       "        6.92758621,  7.26896552,  7.61034483,  7.95172414,  8.29310345,\n",
       "        8.63448276,  8.97586207,  9.31724138,  9.65862069, 10.        ],      dtype=float64)"
      ]
     },
     "execution_count": 8,
     "metadata": {},
     "output_type": "execute_result"
    }
   ],
   "source": [
    "jnp.linspace(kappa_low, kappa_high, N_grid)"
   ]
  },
  {
   "cell_type": "code",
   "execution_count": 9,
   "metadata": {},
   "outputs": [],
   "source": [
    "y_low_im = 0.1\n",
    "y_high_im = 5.0\n",
    "kappa_low_im = 0.1\n",
    "kappa_high_im = 10.0\n",
    "N_grid_im = 1000\n",
    "N_crit_im = 1000"
   ]
  },
  {
   "cell_type": "code",
   "execution_count": 10,
   "metadata": {},
   "outputs": [],
   "source": [
    "import pickle\n",
    "\n",
    "interpolate_dir_name = f'y_{y_low:.3f}_{y_high:.3f}_kappa_{kappa_low:.3f}_{kappa_high:.3f}_N_grid_{N_grid}_N_grid_strong_{N_grid_strong}_N_crit_{N_crit}_N_{N}'\n",
    "image_interp_dir_name = f'{lens_model_name}_y_{y_low_im:.3f}_{y_high_im:.3f}_kappa_{kappa_low_im:.3f}_{kappa_high_im:.3f}_N_{N_grid_im}_N_crit_{N_crit_im}'"
   ]
  },
  {
   "cell_type": "code",
   "execution_count": 11,
   "metadata": {},
   "outputs": [],
   "source": [
    "with open(f'./interpolation/{interpolate_dir_name}/interp_strong_low.pkl', 'rb') as f:\n",
    "    interp_strong_low = pickle.load(f)\n",
    "\n",
    "with open(f'./interpolation/{interpolate_dir_name}/interp_strong_mid_1.pkl', 'rb') as f:\n",
    "    interp_strong_mid_1 = pickle.load(f)\n",
    "\n",
    "with open(f'./interpolation/{interpolate_dir_name}/interp_strong_mid_2.pkl', 'rb') as f:\n",
    "    interp_strong_mid_2 = pickle.load(f)\n",
    "\n",
    "with open(f'./interpolation/{interpolate_dir_name}/interp_strong_high.pkl', 'rb') as f:\n",
    "    interp_strong_high = pickle.load(f)\n",
    "\n",
    "with open(f'./interpolation/{interpolate_dir_name}/interp_strong_sad_max.pkl', 'rb') as f:\n",
    "    interp_strong_sad_max = pickle.load(f)"
   ]
  },
  {
   "cell_type": "code",
   "execution_count": 12,
   "metadata": {},
   "outputs": [],
   "source": [
    "with open(f'./interpolation/{image_interp_dir_name}/strong_full_sad_T_adj.pkl', 'rb') as f:\n",
    "    interp_strong_full_sad_T_adj = pickle.load(f)\n",
    "\n",
    "with open(f'./interpolation/{image_interp_dir_name}/strong_full_max_T_adj.pkl', 'rb') as f:\n",
    "    interp_strong_full_max_T_adj = pickle.load(f)  "
   ]
  },
  {
   "cell_type": "code",
   "execution_count": 13,
   "metadata": {},
   "outputs": [],
   "source": [
    "with open(f'./interpolation/{image_interp_dir_name}/strong_full_sad_mu.pkl', 'rb') as f:\n",
    "    interp_strong_full_sad_mu = pickle.load(f)\n",
    "\n",
    "with open(f'./interpolation/{image_interp_dir_name}/strong_full_max_mu.pkl', 'rb') as f:\n",
    "    interp_strong_full_max_mu = pickle.load(f)\n",
    "\n",
    "with open(f'./interpolation/{image_interp_dir_name}/strong_full_min_mu.pkl', 'rb') as f:\n",
    "    interp_strong_full_min_mu = pickle.load(f)"
   ]
  },
  {
   "cell_type": "code",
   "execution_count": 14,
   "metadata": {},
   "outputs": [],
   "source": [
    "with open(f'./interpolation/{interpolate_dir_name}/interp_weak_low.pkl', 'rb') as f:\n",
    "    interp_weak_low = pickle.load(f)\n",
    "\n",
    "with open(f'./interpolation/{interpolate_dir_name}/interp_weak_mid_1.pkl', 'rb') as f:\n",
    "    interp_weak_mid_1 = pickle.load(f)\n",
    "\n",
    "with open(f'./interpolation/{interpolate_dir_name}/interp_weak_mid_2.pkl', 'rb') as f:\n",
    "    interp_weak_mid_2 = pickle.load(f)\n",
    "\n",
    "with open(f'./interpolation/{interpolate_dir_name}/interp_weak_high.pkl', 'rb') as f:\n",
    "    interp_weak_high = pickle.load(f)\n",
    "\n",
    "with open(f'./interpolation/{interpolate_dir_name}/interp_T_vir.pkl', 'rb') as f:\n",
    "    interp_T_vir = pickle.load(f)\n",
    "\n",
    "with open(f'./interpolation/{interpolate_dir_name}/interp_mu_min_weak.pkl', 'rb') as f:\n",
    "    interp_weak_full_min_mu = pickle.load(f)"
   ]
  },
  {
   "cell_type": "code",
   "execution_count": 15,
   "metadata": {},
   "outputs": [],
   "source": [
    "def chev_points_np(a, b, n):\n",
    "    chev = -np.cos(np.pi*(np.arange(n)+0.5)/n)\n",
    "    chev_inner_width = chev[-1]-chev[0]\n",
    "    return (a+b)/2 + (b-a)/chev_inner_width * chev\n",
    "\n",
    "def chev_first_half_np(a, b, n):\n",
    "    chev = -np.cos(np.pi*(np.arange(n)+0.5)/n)\n",
    "    chev_inner_width = chev[-1]-chev[0]\n",
    "    reg = np.linspace(-1, 1, n)\n",
    "    chev_half = np.where(reg < 0, 2*chev/chev_inner_width, reg)\n",
    "    return (a+b)/2 + (b-a)/2 * chev_half\n",
    "\n",
    "def make_T0_arr_multiple_chev_np(N, T_images, T0_max):\n",
    "    T_im_sad = T_images[0]\n",
    "    T_im_max = T_images[1]\n",
    "    dt_around_image = T_im_sad / N**3\n",
    "    T0_arr_low = chev_points_np(dt_around_image,\n",
    "                              T_im_sad - dt_around_image,\n",
    "                              N)\n",
    "    T0_arr_mid_1 = chev_first_half_np(T_im_sad + dt_around_image,\n",
    "                              2*T_im_sad,\n",
    "                              N)\n",
    "    T0_arr_mid_2 = np.linspace(2*T_im_sad + dt_around_image,\n",
    "                              10*T_im_sad,\n",
    "                              N)\n",
    "    T0_arr_high = np.logspace(np.log10(10*T_im_sad + dt_around_image),\n",
    "                               np.log10(T0_max),\n",
    "                               N)\n",
    "    T0_arr_sad_max = chev_points_np(T_im_sad + dt_around_image,\n",
    "                                  T_im_max - dt_around_image,\n",
    "                                  N)\n",
    "    return np.array([T0_arr_low, T0_arr_mid_1,\n",
    "                            T0_arr_mid_2, T0_arr_high]), T0_arr_sad_max\n",
    "\n",
    "def make_T0_arr_multiple_np(N, T_images, T0_max):\n",
    "    T_im_sad = T_images[0]\n",
    "    T_im_max = T_images[1]\n",
    "    dt_around_image = T_im_sad / N**3\n",
    "    T0_arr_low = np.linspace(dt_around_image,\n",
    "                              T_im_sad - dt_around_image,\n",
    "                              N)\n",
    "    T0_arr_mid_1 = np.linspace(T_im_sad + dt_around_image,\n",
    "                              2*T_im_sad,\n",
    "                              N)\n",
    "    T0_arr_mid_2 = np.linspace(2*T_im_sad + dt_around_image,\n",
    "                              10*T_im_sad,\n",
    "                              N)\n",
    "    T0_arr_high = np.logspace(np.log10(10*T_im_sad + dt_around_image),\n",
    "                               np.log10(T0_max),\n",
    "                               N)\n",
    "    T0_arr_sad_max = np.linspace(T_im_sad + dt_around_image,\n",
    "                                  T_im_max - dt_around_image,\n",
    "                                  N)\n",
    "    return np.array([T0_arr_low, T0_arr_mid_1,\n",
    "                            T0_arr_mid_2, T0_arr_high]), T0_arr_sad_max"
   ]
  },
  {
   "cell_type": "code",
   "execution_count": 281,
   "metadata": {},
   "outputs": [],
   "source": [
    "y_interp = 0.8\n",
    "kappa_interp = 6.0"
   ]
  },
  {
   "cell_type": "code",
   "execution_count": 282,
   "metadata": {},
   "outputs": [],
   "source": [
    "T_sad = interp_strong_full_sad_T_adj(y_interp, kappa_interp)\n",
    "strongly_lensed = ~np.isnan(T_sad)"
   ]
  },
  {
   "cell_type": "code",
   "execution_count": 283,
   "metadata": {},
   "outputs": [],
   "source": [
    "if strongly_lensed:\n",
    "    u_interp_low = interp_strong_low(y_interp, kappa_interp).ravel()\n",
    "    u_interp_mid_1 = interp_strong_mid_1(y_interp, kappa_interp).ravel()\n",
    "    u_interp_mid_2 = interp_strong_mid_2(y_interp, kappa_interp).ravel()\n",
    "    u_interp_high = interp_strong_high(y_interp, kappa_interp).ravel()\n",
    "    u_interp_sad_max = interp_strong_sad_max(y_interp, kappa_interp).ravel()\n",
    "    T_sad_interp = interp_strong_full_sad_T_adj(y_interp, kappa_interp)\n",
    "    T_max_interp = interp_strong_full_max_T_adj(y_interp, kappa_interp)\n",
    "    mu_sad_interp = interp_strong_full_sad_mu(y_interp, kappa_interp)\n",
    "    mu_max_interp = interp_strong_full_max_mu(y_interp, kappa_interp)\n",
    "    mu_min_interp = interp_strong_full_min_mu(y_interp, kappa_interp)\n",
    "else:\n",
    "    u_interp_low = interp_weak_low(y_interp, kappa_interp).ravel()\n",
    "    u_interp_mid_1 = interp_weak_mid_1(y_interp, kappa_interp).ravel()\n",
    "    u_interp_mid_2 = interp_weak_mid_2(y_interp, kappa_interp).ravel()\n",
    "    u_interp_high = interp_weak_high(y_interp, kappa_interp).ravel()\n",
    "    T_sad_interp = interp_T_vir(y_interp, kappa_interp)\n",
    "    T_max_interp = np.nan\n",
    "    mu_sad_interp = np.nan\n",
    "    mu_max_interp = np.nan\n",
    "    mu_min_interp = interp_weak_full_min_mu(y_interp, kappa_interp)"
   ]
  },
  {
   "cell_type": "code",
   "execution_count": 284,
   "metadata": {},
   "outputs": [
    {
     "name": "stdout",
     "output_type": "stream",
     "text": [
      "1.4995887102500216 0.07163050297975032 2.799383519573506\n"
     ]
    }
   ],
   "source": [
    "print(mu_sad_interp, mu_max_interp, mu_min_interp)"
   ]
  },
  {
   "cell_type": "code",
   "execution_count": 285,
   "metadata": {},
   "outputs": [],
   "source": [
    "T0_min_out_interp_seg, T0_sad_max_interp = make_T0_arr_multiple_chev_np(N, np.array([T_sad_interp, T_max_interp, 0]),\n",
    "                                             T0_max = T0_max)"
   ]
  },
  {
   "cell_type": "code",
   "execution_count": 286,
   "metadata": {},
   "outputs": [],
   "source": [
    "T0_min_out_interp_full = np.concatenate(T0_min_out_interp_seg)\n",
    "u_min_out_interp_full = np.concatenate([u_interp_low, u_interp_mid_1, u_interp_mid_2, u_interp_high])"
   ]
  },
  {
   "cell_type": "code",
   "execution_count": 287,
   "metadata": {},
   "outputs": [],
   "source": [
    "def sad_log(t, mu_sad, T_sad):\n",
    "    return -jnp.sqrt(jnp.abs(mu_sad))*jnp.log(jnp.abs(T_sad - t))/jnp.pi"
   ]
  },
  {
   "cell_type": "code",
   "execution_count": 288,
   "metadata": {},
   "outputs": [
    {
     "data": {
      "text/plain": [
       "(2.8857528161545463, 2.9440508528445375)"
      ]
     },
     "execution_count": 288,
     "metadata": {},
     "output_type": "execute_result"
    },
    {
     "data": {
      "image/png": "[encoded data removed]",
      "text/plain": [
       "<Figure size 640x480 with 1 Axes>"
      ]
     },
     "metadata": {},
     "output_type": "display_data"
    }
   ],
   "source": [
    "log_sad = sad_log(T0_min_out_interp_full, mu_sad_interp, T_sad_interp)\n",
    "\n",
    "plt.scatter(T0_min_out_interp_full, u_min_out_interp_full)\n",
    "plt.scatter(T0_min_out_interp_full, log_sad)\n",
    "if strongly_lensed:\n",
    "    plt.scatter(T0_sad_max_interp, u_interp_sad_max)\n",
    "plt.xlim(T_sad_interp*0.99, T_sad_interp*1.01)\n",
    "# plt.xscale('log')"
   ]
  },
  {
   "cell_type": "code",
   "execution_count": 289,
   "metadata": {},
   "outputs": [],
   "source": [
    "def interp_F_fft(t_fft):\n",
    "    F_fft = np.interp(t_fft, T0_min_out_interp_full, u_min_out_interp_full)\n",
    "    if strongly_lensed:\n",
    "        F_fft += np.interp(t_fft, T0_sad_max_interp, u_interp_sad_max, left = 0., right = 0.)\n",
    "    return F_fft"
   ]
  },
  {
   "cell_type": "code",
   "execution_count": 290,
   "metadata": {},
   "outputs": [],
   "source": [
    "T_im_hi = np.nanmax((T_max_interp, T_sad_interp))\n",
    "t_fft_short_max = T_im_hi*20\n",
    "t_fft_long_max = np.min((T_im_hi*2000, 1000))\n",
    "t_fft_short = np.linspace(0, t_fft_short_max, 2**16)\n",
    "t_fft_long = np.linspace(0, t_fft_long_max, 2**16)\n",
    "F_fft_short = interp_F_fft(t_fft_short)\n",
    "F_fft_long = interp_F_fft(t_fft_long)"
   ]
  },
  {
   "cell_type": "code",
   "execution_count": 291,
   "metadata": {},
   "outputs": [
    {
     "data": {
      "text/plain": [
       "[<matplotlib.lines.Line2D at 0x7f1314b16d30>]"
      ]
     },
     "execution_count": 291,
     "metadata": {},
     "output_type": "execute_result"
    },
    {
     "data": {
      "image/png": "[encoded data removed]",
      "text/plain": [
       "<Figure size 640x480 with 1 Axes>"
      ]
     },
     "metadata": {},
     "output_type": "display_data"
    }
   ],
   "source": [
    "plt.plot(t_fft_short, F_fft_short)"
   ]
  },
  {
   "cell_type": "code",
   "execution_count": 292,
   "metadata": {},
   "outputs": [],
   "source": [
    "def amplification_fft_np(t_fft, Ft_fft):\n",
    "\n",
    "    fft_len = len(t_fft)\n",
    "    dt = t_fft[1] - t_fft[0]\n",
    "    w_arr = np.linspace(0, 2*np.pi/dt, num = fft_len)\n",
    "    Fw_raw = w_arr*np.fft.fft(Ft_fft)*dt\n",
    "    Fw = -np.imag(Fw_raw) - 1.j*np.real(Fw_raw) + Ft_fft[-1]\n",
    "\n",
    "    return w_arr, Fw"
   ]
  },
  {
   "cell_type": "code",
   "execution_count": 293,
   "metadata": {},
   "outputs": [],
   "source": [
    "def F_geom(ws, T_im, mu_im):\n",
    "    F = np.zeros(len(ws), dtype = np.complex128)\n",
    "    morse_indx = [0.5, 1, 0]\n",
    "    mu_im = np.nan_to_num(mu_im)\n",
    "    for i in range(3):\n",
    "        F += np.sqrt(np.abs(mu_im[i]))*np.exp(1.j*(ws*T_im[i] - np.pi*morse_indx[i]))\n",
    "    return F"
   ]
  },
  {
   "cell_type": "code",
   "execution_count": 294,
   "metadata": {},
   "outputs": [],
   "source": [
    "w_arr_high, Fw_high = amplification_fft_np(t_fft_short, F_fft_short)"
   ]
  },
  {
   "cell_type": "code",
   "execution_count": 295,
   "metadata": {},
   "outputs": [],
   "source": [
    "w_arr_low, Fw_low = amplification_fft_np(t_fft_long, F_fft_long)"
   ]
  },
  {
   "cell_type": "code",
   "execution_count": 296,
   "metadata": {},
   "outputs": [],
   "source": [
    "if strongly_lensed:\n",
    "    mu_im = [mu_sad_interp, mu_max_interp, mu_min_interp]\n",
    "    T_im = [T_sad_interp, T_max_interp, 0]\n",
    "else:\n",
    "    mu_im = [0, 0, mu_min_interp]\n",
    "    T_im = [0, 0, 0]\n",
    "F_g = F_geom(w_arr_high, T_im, mu_im)\n",
    "# else:\n",
    "#     F_geom = np.ones_like(w_arr_high)*np.sqrt(np.abs(mu_min_interp))"
   ]
  },
  {
   "cell_type": "code",
   "execution_count": 297,
   "metadata": {},
   "outputs": [],
   "source": [
    "from bisect import bisect_left\n",
    "indx = bisect_left(w_arr_low, 25/T_im_hi)\n",
    "y_lim_high = np.max(np.abs(Fw_low[:indx]))*1.5\n",
    "y_lim_low = np.min(np.abs(Fw_low[:indx]))*0.8"
   ]
  },
  {
   "cell_type": "code",
   "execution_count": 298,
   "metadata": {},
   "outputs": [],
   "source": [
    "w_trans_1 = 2.5/T_im_hi\n",
    "w_trans_2 = 250/T_im_hi if strongly_lensed else 1000/T_im_hi"
   ]
  },
  {
   "cell_type": "code",
   "execution_count": 299,
   "metadata": {},
   "outputs": [
    {
     "data": {
      "text/plain": [
       "(0.18754730090424235, 4.756028906699802)"
      ]
     },
     "execution_count": 299,
     "metadata": {},
     "output_type": "execute_result"
    },
    {
     "data": {
      "image/png": "[encoded data removed]",
      "text/plain": [
       "<Figure size 640x480 with 1 Axes>"
      ]
     },
     "metadata": {},
     "output_type": "display_data"
    }
   ],
   "source": [
    "plt.semilogx(w_arr_high, np.abs(Fw_high), label = 'high', alpha = 0.5)\n",
    "plt.semilogx(w_arr_low, np.abs(Fw_low), label = 'low', alpha = 0.5)\n",
    "plt.semilogx(w_arr_high, np.abs(F_g), label = 'geom', alpha = 0.5)\n",
    "plt.axvline(w_trans_1, color = 'k', linestyle = '--', label = '5/T_sad')\n",
    "plt.axvline(w_trans_2, color = 'k', linestyle = ':', label = '250/T_sad')\n",
    "plt.legend()\n",
    "plt.ylim(y_lim_low, y_lim_high)"
   ]
  },
  {
   "cell_type": "code",
   "execution_count": 300,
   "metadata": {},
   "outputs": [],
   "source": [
    "def smooth_increase(x, x0, a):\n",
    "    return (1 + np.tanh((x - x0)/a))/2\n",
    "\n",
    "def smooth_decrease(x, x0, a):\n",
    "    return 1 - smooth_increase(x, x0, a)"
   ]
  },
  {
   "cell_type": "code",
   "execution_count": 301,
   "metadata": {},
   "outputs": [],
   "source": [
    "def interp_partitions(w_interp, ws, Fs, partitions, sigs, T_im, mu_im):\n",
    "    F_interp = np.zeros_like(w_interp, dtype = np.complex128)\n",
    "    F_interp_raw = [np.ones_like(w_interp, dtype=np.complex128)]\n",
    "    for i, (w, F) in enumerate(zip(ws, Fs)):\n",
    "        F_interp_raw.append(np.interp(w_interp, w, F, left = 1., right = 0.))\n",
    "    F_interp_raw.append(F_geom(w_interp, T_im, mu_im))\n",
    "    for i in range(len(partitions)):\n",
    "        if i == 0:\n",
    "            F_interp += F_interp_raw[i]*smooth_decrease(w_interp, partitions[i], sigs[i])\n",
    "        if i < len(partitions) - 1:\n",
    "            F_interp += F_interp_raw[i+1]*smooth_increase(w_interp, partitions[i], sigs[i])\\\n",
    "                        *smooth_decrease(w_interp, partitions[i+1], sigs[i+1])\n",
    "        else:\n",
    "            F_interp += F_interp_raw[i+1]*smooth_increase(w_interp, partitions[i], sigs[i])\n",
    "    return F_interp"
   ]
  },
  {
   "cell_type": "code",
   "execution_count": 302,
   "metadata": {},
   "outputs": [
    {
     "name": "stderr",
     "output_type": "stream",
     "text": [
      "/tmp/ipykernel_14998/2650318756.py:2: RuntimeWarning: divide by zero encountered in divide\n",
      "  return (1 + np.tanh((x - x0)/a))/2\n"
     ]
    }
   ],
   "source": [
    "w_interp = np.linspace(0.001, 1e4, num = 10**6)\n",
    "w_list = [w_arr_low, w_arr_high]\n",
    "F_list = [Fw_low, Fw_high]\n",
    "w_low_trans = w_arr_low[0]\n",
    "partitions = np.array([w_low_trans, w_trans_1, w_trans_2])\n",
    "sigs = partitions/10\n",
    "\n",
    "F_interp = interp_partitions(w_interp, w_list, F_list, partitions, sigs, T_im, mu_im)"
   ]
  },
  {
   "cell_type": "code",
   "execution_count": 308,
   "metadata": {},
   "outputs": [
    {
     "data": {
      "text/plain": [
       "(0.18754730090424235, 9.512057813399604)"
      ]
     },
     "execution_count": 308,
     "metadata": {},
     "output_type": "execute_result"
    },
    {
     "data": {
      "image/png": "[encoded data removed]",
      "text/plain": [
       "<Figure size 640x480 with 1 Axes>"
      ]
     },
     "metadata": {},
     "output_type": "display_data"
    }
   ],
   "source": [
    "plt.semilogx(w_interp, np.abs(F_interp))\n",
    "plt.axvline(w_trans_1, color = 'k', linestyle = ':', label = '5/T_sad')\n",
    "plt.axvline(w_trans_2, color = 'k', linestyle = ':', label = '250/T_sad')\n",
    "plt.ylim(y_lim_low, y_lim_high*2)"
   ]
  },
  {
   "cell_type": "code",
   "execution_count": null,
   "metadata": {},
   "outputs": [],
   "source": []
  }
 ],
 "metadata": {
  "kernelspec": {
   "display_name": "glworia",
   "language": "python",
   "name": "python3"
  },
  "language_info": {
   "codemirror_mode": {
    "name": "ipython",
    "version": 3
   },
   "file_extension": ".py",
   "mimetype": "text/x-python",
   "name": "python",
   "nbconvert_exporter": "python",
   "pygments_lexer": "ipython3",
   "version": "3.9.2"
  },
  "orig_nbformat": 4
 },
 "nbformat": 4,
 "nbformat_minor": 2
}
