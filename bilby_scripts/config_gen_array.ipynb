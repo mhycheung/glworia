{
 "cells": [
  {
   "cell_type": "code",
   "execution_count": 12,
   "metadata": {},
   "outputs": [],
   "source": [
    "import configparser\n",
    "import os"
   ]
  },
  {
   "cell_type": "code",
   "execution_count": 55,
   "metadata": {},
   "outputs": [],
   "source": [
    "config_dir = \"./config/\"\n",
    "slurm_dir = \"../slurm/\"\n",
    "batchname = \"NFW_arr1_fast\"\n",
    "email = \"hcheung5@jhu.edu\"\n",
    "account = \"cit122\"\n",
    "activate_path = \"/home/mcheung1/Lensing/Glworia_jax/bin/activate\"\n",
    "GLWORIA_PREFIX = \"/home/mcheung1/Lensing/Glworia_jax/glworia_jax\""
   ]
  },
  {
   "cell_type": "code",
   "execution_count": 56,
   "metadata": {},
   "outputs": [],
   "source": [
    "config_batch_dir = os.path.join(config_dir, batchname)\n",
    "os.makedirs(config_batch_dir, exist_ok=True)\n",
    "slurm_batch_out_dir = os.path.join(slurm_dir, 'out', batchname)\n",
    "os.makedirs(slurm_batch_out_dir, exist_ok=True)"
   ]
  },
  {
   "cell_type": "code",
   "execution_count": 57,
   "metadata": {},
   "outputs": [],
   "source": [
    "config = configparser.ConfigParser()\n",
    "config.optionxform = str"
   ]
  },
  {
   "cell_type": "code",
   "execution_count": 58,
   "metadata": {},
   "outputs": [],
   "source": [
    "lens_model_name = 'NFW'\n",
    "lens_param_name = 'kappa'\n",
    "lens_param_latex = r\"$\\kappa$\""
   ]
  },
  {
   "cell_type": "code",
   "execution_count": 59,
   "metadata": {},
   "outputs": [],
   "source": [
    "config[\"injection_parameters\"] = dict(\n",
    "    mass_1=36.0,\n",
    "    mass_2=29.0,\n",
    "    a_1=0.4,\n",
    "    a_2=0.3,\n",
    "    tilt_1=0.5,\n",
    "    tilt_2=1.0,\n",
    "    phi_12=1.7,\n",
    "    phi_jl=0.3,\n",
    "    luminosity_distance=500.0,\n",
    "    theta_jn=0.4,\n",
    "    psi=2.659,\n",
    "    phase=1.3,\n",
    "    # y = 1.0,\n",
    "    MLz = 500.,\n",
    "    # kappa = 3.0,\n",
    "    geocent_time=1126259642.413,\n",
    "    ra=1.375,\n",
    "    dec=-1.2108,\n",
    ")"
   ]
  },
  {
   "cell_type": "code",
   "execution_count": 60,
   "metadata": {},
   "outputs": [],
   "source": [
    "config['interpolator_settings'] = {\n",
    "    'y_low': 0.1,\n",
    "    'y_high': 5.0,\n",
    "    lens_param_name + '_low': 0.1,\n",
    "    lens_param_name + '_high': 10.0,\n",
    "    'N_grid': 30,\n",
    "    'N_grid_strong': 60,\n",
    "    'N_crit': 60,\n",
    "    'N': 200,\n",
    "    'lens_model_name': lens_model_name,\n",
    "\n",
    "    'T0_max': 1000,\n",
    "\n",
    "    'y_low_im': 0.1,\n",
    "    'y_high_im': 5.0,\n",
    "    lens_param_name + '_low_im': 0.1,\n",
    "    lens_param_name + '_high_im': 10.0,\n",
    "    'N_grid_im': 1000,\n",
    "    'N_crit_im': 1000,\n",
    "}"
   ]
  },
  {
   "cell_type": "code",
   "execution_count": 61,
   "metadata": {},
   "outputs": [],
   "source": [
    "config['prior_settings'] = {\n",
    "    'MLz_prior_type': 'uniform',\n",
    "    'MLz_min': 1.0,\n",
    "    'MLz_max': 2000.0,\n",
    "    'y_prior_type': 'uniform',\n",
    "    'y_min': 0.1,\n",
    "    'y_max': 5.0,\n",
    "    lens_param_name + '_prior_type': 'uniform',\n",
    "    lens_param_name + '_min': 0.1,\n",
    "    lens_param_name + '_max': 10.0,\n",
    "}"
   ]
  },
  {
   "cell_type": "code",
   "execution_count": 62,
   "metadata": {},
   "outputs": [],
   "source": [
    "config['waveform_arguments'] = dict(\n",
    "    waveform_approximant=\"IMRPhenomPv2\",\n",
    "    reference_frequency=50.0,\n",
    "    minimum_frequency=20.0)"
   ]
  },
  {
   "cell_type": "code",
   "execution_count": 63,
   "metadata": {},
   "outputs": [],
   "source": [
    "config['misc'] = { \n",
    "    'duration': 4.0,\n",
    "    'sampling_frequency': 2048.0,\n",
    "    'minimum_frequency': 20,\n",
    "    'seed': 88170235,\n",
    "    # 'outdir_ext': '',\n",
    "    'lp_name': lens_param_name,\n",
    "    'lp_latex': lens_param_latex,\n",
    "}"
   ]
  },
  {
   "cell_type": "code",
   "execution_count": 64,
   "metadata": {},
   "outputs": [],
   "source": [
    "config['sampler_settings'] = {\n",
    "    'sampler': 'dynesty',\n",
    "    'nlive': 1000}"
   ]
  },
  {
   "cell_type": "code",
   "execution_count": 65,
   "metadata": {},
   "outputs": [],
   "source": [
    "y_arr = [1.0, 2.0, 3.0]\n",
    "kappa_arr = [0.5, 1.0, 5.0]\n",
    "\n",
    "config_file_path_list = []\n",
    "\n",
    "for y in y_arr:\n",
    "    config[\"injection_parameters\"][\"y\"] = f'{y:.4f}'\n",
    "    for kappa in kappa_arr:\n",
    "        config[\"injection_parameters\"][\"kappa\"] = f'{kappa:.4f}'\n",
    "        config_file_path = os.path.join(config_batch_dir, f\"MLz_500_y_{y:.4f}_kappa_{kappa:.4f}.ini\")\n",
    "\n",
    "        config['misc']['outdir_ext'] = batchname\n",
    "        with open(config_file_path, 'w') as configfile:\n",
    "            config.write(configfile)\n",
    "        config_file_path_list.append(os.path.abspath(config_file_path))"
   ]
  },
  {
   "cell_type": "code",
   "execution_count": 66,
   "metadata": {},
   "outputs": [
    {
     "data": {
      "text/plain": [
       "['/home/mcheung1/Lensing/Glworia_jax/glworia_jax/bilby_scripts/config/NFW_arr1_fast/MLz_500_y_1.0000_kappa_0.5000.ini',\n",
       " '/home/mcheung1/Lensing/Glworia_jax/glworia_jax/bilby_scripts/config/NFW_arr1_fast/MLz_500_y_1.0000_kappa_1.0000.ini',\n",
       " '/home/mcheung1/Lensing/Glworia_jax/glworia_jax/bilby_scripts/config/NFW_arr1_fast/MLz_500_y_1.0000_kappa_5.0000.ini',\n",
       " '/home/mcheung1/Lensing/Glworia_jax/glworia_jax/bilby_scripts/config/NFW_arr1_fast/MLz_500_y_2.0000_kappa_0.5000.ini',\n",
       " '/home/mcheung1/Lensing/Glworia_jax/glworia_jax/bilby_scripts/config/NFW_arr1_fast/MLz_500_y_2.0000_kappa_1.0000.ini',\n",
       " '/home/mcheung1/Lensing/Glworia_jax/glworia_jax/bilby_scripts/config/NFW_arr1_fast/MLz_500_y_2.0000_kappa_5.0000.ini',\n",
       " '/home/mcheung1/Lensing/Glworia_jax/glworia_jax/bilby_scripts/config/NFW_arr1_fast/MLz_500_y_3.0000_kappa_0.5000.ini',\n",
       " '/home/mcheung1/Lensing/Glworia_jax/glworia_jax/bilby_scripts/config/NFW_arr1_fast/MLz_500_y_3.0000_kappa_1.0000.ini',\n",
       " '/home/mcheung1/Lensing/Glworia_jax/glworia_jax/bilby_scripts/config/NFW_arr1_fast/MLz_500_y_3.0000_kappa_5.0000.ini']"
      ]
     },
     "execution_count": 66,
     "metadata": {},
     "output_type": "execute_result"
    }
   ],
   "source": [
    "config_file_path_list"
   ]
  },
  {
   "cell_type": "code",
   "execution_count": 67,
   "metadata": {},
   "outputs": [],
   "source": [
    "config_file_path_list_file = os.path.join(config_batch_dir, \"file_path.txt\")\n",
    "with open(config_file_path_list_file, 'w') as f:\n",
    "    for item in config_file_path_list:\n",
    "        f.write(\"%s\\n\" % item)"
   ]
  },
  {
   "cell_type": "code",
   "execution_count": 68,
   "metadata": {},
   "outputs": [],
   "source": [
    "cpus_per_task = 8"
   ]
  },
  {
   "cell_type": "code",
   "execution_count": 69,
   "metadata": {},
   "outputs": [],
   "source": [
    "slurm_script = f\"\"\"#!/bin/bash\n",
    "#SBATCH --job-name=\"{batchname}\"\n",
    "#SBATCH --output=\"{os.path.abspath(slurm_batch_out_dir)}/%A.%a.out\"\n",
    "#SBATCH --partition=shared\n",
    "#SBATCH --nodes=1\n",
    "#SBATCH --ntasks-per-node=1\n",
    "#SBATCH --cpus-per-task={cpus_per_task}\n",
    "#SBATCH --mem={cpus_per_task*2}Gb\n",
    "#SBATCH --account={account}\n",
    "#SBATCH -t 48:00:00\n",
    "#SBATCH --mail-type=ALL\n",
    "#SBATCH --mail-user={email}\n",
    "#SBATCH --array=0-{len(config_file_path_list)-1}\n",
    "\n",
    "pwd; hostname; date\n",
    "\n",
    "source {activate_path}\n",
    "export PYTHONPATH=$PYTHONPATH:{GLWORIA_PREFIX}\n",
    "export GLWORIA_PREFIX={GLWORIA_PREFIX}\n",
    "\n",
    "mapfile -t config_file_path_list < {os.path.abspath(config_file_path_list_file)}\n",
    "config_file_path=${{config_file_path_list[$SLURM_ARRAY_TASK_ID]}}\n",
    "echo $config_file_path\n",
    "\n",
    "python {GLWORIA_PREFIX}/bilby_scripts/PE_fast.py $config_file_path\"\"\""
   ]
  },
  {
   "cell_type": "code",
   "execution_count": 70,
   "metadata": {},
   "outputs": [],
   "source": [
    "slurm_script_path = os.path.join(slurm_dir, f\"{batchname}.sh\")\n",
    "with open(slurm_script_path, 'w') as f:\n",
    "    f.write(slurm_script)"
   ]
  },
  {
   "cell_type": "code",
   "execution_count": null,
   "metadata": {},
   "outputs": [],
   "source": []
  }
 ],
 "metadata": {
  "kernelspec": {
   "display_name": "Glworia_jax",
   "language": "python",
   "name": "python3"
  },
  "language_info": {
   "codemirror_mode": {
    "name": "ipython",
    "version": 3
   },
   "file_extension": ".py",
   "mimetype": "text/x-python",
   "name": "python",
   "nbconvert_exporter": "python",
   "pygments_lexer": "ipython3",
   "version": "3.8.5"
  },
  "orig_nbformat": 4
 },
 "nbformat": 4,
 "nbformat_minor": 2
}
