{
 "cells": [
  {
   "cell_type": "code",
   "execution_count": 58,
   "metadata": {},
   "outputs": [],
   "source": [
    "import configparser\n",
    "import os"
   ]
  },
  {
   "cell_type": "code",
   "execution_count": 59,
   "metadata": {},
   "outputs": [],
   "source": [
    "config_dir = \"./config/\"\n",
    "slurm_dir = \"../slurm/\"\n",
    "runname = \"NFW_test\"\n",
    "config_file_path = os.path.join(config_dir, f\"{runname}.ini\")"
   ]
  },
  {
   "cell_type": "code",
   "execution_count": 60,
   "metadata": {},
   "outputs": [],
   "source": [
    "config = configparser.ConfigParser()\n",
    "config.optionxform = str"
   ]
  },
  {
   "cell_type": "code",
   "execution_count": 61,
   "metadata": {},
   "outputs": [],
   "source": [
    "lens_model_name = 'NFW'\n",
    "lens_param_name = 'kappa'\n",
    "lens_param_latex = r\"$\\kappa$\""
   ]
  },
  {
   "cell_type": "code",
   "execution_count": 62,
   "metadata": {},
   "outputs": [],
   "source": [
    "config[\"injection_parameters\"] = dict(\n",
    "    mass_1=36.0,\n",
    "    mass_2=29.0,\n",
    "    a_1=0.4,\n",
    "    a_2=0.3,\n",
    "    tilt_1=0.5,\n",
    "    tilt_2=1.0,\n",
    "    phi_12=1.7,\n",
    "    phi_jl=0.3,\n",
    "    luminosity_distance=500.0,\n",
    "    theta_jn=0.4,\n",
    "    psi=2.659,\n",
    "    phase=1.3,\n",
    "    y = 1.0,\n",
    "    MLz = 300.,\n",
    "    kappa = 3.0,\n",
    "    geocent_time=1126259642.413,\n",
    "    ra=1.375,\n",
    "    dec=-1.2108,\n",
    ")"
   ]
  },
  {
   "cell_type": "code",
   "execution_count": 63,
   "metadata": {},
   "outputs": [],
   "source": [
    "config['interpolator_settings'] = {\n",
    "    'y_low': 0.1,\n",
    "    'y_high': 5.0,\n",
    "    lens_param_name + '_low': 0.1,\n",
    "    lens_param_name + '_high': 10.0,\n",
    "    'N_grid': 30,\n",
    "    'N_grid_strong': 60,\n",
    "    'N_crit': 60,\n",
    "    'N': 200,\n",
    "    'lens_model_name': lens_model_name,\n",
    "\n",
    "    'T0_max': 1000,\n",
    "\n",
    "    'y_low_im': 0.1,\n",
    "    'y_high_im': 5.0,\n",
    "    lens_param_name + '_low_im': 0.1,\n",
    "    lens_param_name + '_high_im': 10.0,\n",
    "    'N_grid_im': 1000,\n",
    "    'N_crit_im': 1000,\n",
    "}"
   ]
  },
  {
   "cell_type": "code",
   "execution_count": 64,
   "metadata": {},
   "outputs": [],
   "source": [
    "config['prior_settings'] = {\n",
    "    'MLz_prior_type': 'uniform',\n",
    "    'MLz_min': 1.0,\n",
    "    'MLz_max': 2000.0,\n",
    "    'y_prior_type': 'uniform',\n",
    "    'y_min': 0.1,\n",
    "    'y_max': 5.0,\n",
    "    lens_param_name + '_prior_type': 'uniform',\n",
    "    lens_param_name + '_min': 0.1,\n",
    "    lens_param_name + '_max': 10.0,\n",
    "}"
   ]
  },
  {
   "cell_type": "code",
   "execution_count": 65,
   "metadata": {},
   "outputs": [],
   "source": [
    "config['waveform_arguments'] = dict(\n",
    "    waveform_approximant=\"IMRPhenomPv2\",\n",
    "    reference_frequency=50.0,\n",
    "    minimum_frequency=20.0)"
   ]
  },
  {
   "cell_type": "code",
   "execution_count": 66,
   "metadata": {},
   "outputs": [],
   "source": [
    "config['misc'] = { \n",
    "    'duration': 4.0,\n",
    "    'sampling_frequency': 2048.0,\n",
    "    'minimum_frequency': 20,\n",
    "    'seed': 88170235,\n",
    "    'outdir_ext': '',\n",
    "    'lp_name': lens_param_name,\n",
    "    'lp_latex': lens_param_latex,\n",
    "}"
   ]
  },
  {
   "cell_type": "code",
   "execution_count": 67,
   "metadata": {},
   "outputs": [],
   "source": [
    "config['sampler_settings'] = {\n",
    "    'sampler': 'dynesty',\n",
    "    'nlive': 1000}"
   ]
  },
  {
   "cell_type": "code",
   "execution_count": 68,
   "metadata": {},
   "outputs": [],
   "source": [
    "with open(config_file_path, 'w') as configfile:\n",
    "    config.write(configfile)"
   ]
  },
  {
   "cell_type": "code",
   "execution_count": null,
   "metadata": {},
   "outputs": [],
   "source": []
  }
 ],
 "metadata": {
  "kernelspec": {
   "display_name": "Glworia_jax",
   "language": "python",
   "name": "python3"
  },
  "language_info": {
   "codemirror_mode": {
    "name": "ipython",
    "version": 3
   },
   "file_extension": ".py",
   "mimetype": "text/x-python",
   "name": "python",
   "nbconvert_exporter": "python",
   "pygments_lexer": "ipython3",
   "version": "3.8.5"
  },
  "orig_nbformat": 4
 },
 "nbformat": 4,
 "nbformat_minor": 2
}
