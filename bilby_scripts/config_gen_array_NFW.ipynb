{
 "cells": [
  {
   "cell_type": "code",
   "execution_count": 1,
   "metadata": {},
   "outputs": [],
   "source": [
    "import configparser\n",
    "import os"
   ]
  },
  {
   "cell_type": "code",
   "execution_count": 2,
   "metadata": {},
   "outputs": [],
   "source": [
    "config_dir = \"./config/\"\n",
    "slurm_dir = \"../slurm/\"\n",
    "batchname = \"NFW_arr5_dL_uniform_crit_mask\"\n",
    "email = \"hcheung5@jhu.edu\"\n",
    "account = \"cit122\"\n",
    "activate_path = \"/home/mcheung1/Lensing/Glworia_jax/bin/activate\"\n",
    "GLWORIA_PREFIX = \"/home/mcheung1/Lensing/Glworia_jax/glworia_jax\""
   ]
  },
  {
   "cell_type": "code",
   "execution_count": 3,
   "metadata": {},
   "outputs": [],
   "source": [
    "MLz = 25"
   ]
  },
  {
   "cell_type": "code",
   "execution_count": 4,
   "metadata": {},
   "outputs": [],
   "source": [
    "config_batch_dir = os.path.join(config_dir, batchname)\n",
    "os.makedirs(config_batch_dir, exist_ok=True)\n",
    "slurm_batch_out_dir = os.path.join(slurm_dir, 'out', batchname)\n",
    "os.makedirs(slurm_batch_out_dir, exist_ok=True)"
   ]
  },
  {
   "cell_type": "code",
   "execution_count": 5,
   "metadata": {},
   "outputs": [],
   "source": [
    "config = configparser.ConfigParser()\n",
    "config.optionxform = str"
   ]
  },
  {
   "cell_type": "code",
   "execution_count": 6,
   "metadata": {},
   "outputs": [],
   "source": [
    "lens_model_name = 'NFW'\n",
    "lens_param_name = 'kappa'\n",
    "lens_param_latex = r\"$\\kappa$\""
   ]
  },
  {
   "cell_type": "code",
   "execution_count": 7,
   "metadata": {},
   "outputs": [],
   "source": [
    "config[\"injection_parameters\"] = dict(\n",
    "    mass_1=36.0,\n",
    "    mass_2=29.0,\n",
    "    a_1=0.4,\n",
    "    a_2=0.3,\n",
    "    tilt_1=0.5,\n",
    "    tilt_2=1.0,\n",
    "    phi_12=1.7,\n",
    "    phi_jl=0.3,\n",
    "    theta_jn=0.4,\n",
    "    psi=2.659,\n",
    "    phase=1.3,\n",
    "    MLz = MLz,\n",
    "    geocent_time=1126259642.413,\n",
    "    ra=1.375,\n",
    "    dec=-1.2108,\n",
    ")"
   ]
  },
  {
   "cell_type": "code",
   "execution_count": 8,
   "metadata": {},
   "outputs": [],
   "source": [
    "config['interpolator_settings'] = {\n",
    "    'y_low': 0.1,\n",
    "    'y_high': 5.0,\n",
    "    lens_param_name + '_low': 0.1,\n",
    "    lens_param_name + '_high': 10.,\n",
    "    'N_grid': 30,\n",
    "    'N_grid_strong': 60,\n",
    "    'N_crit': 60,\n",
    "    'N': 200,\n",
    "    'lens_model_name': lens_model_name,\n",
    "    'lens_param_name': lens_param_name,\n",
    "\n",
    "    'T0_max': 1000,\n",
    "\n",
    "    'y_low_im': 0.1,\n",
    "    'y_high_im': 5.0,\n",
    "    lens_param_name + '_low_im': 0.1,\n",
    "    lens_param_name + '_high_im': 10.,\n",
    "    'N_grid_im': 1000,\n",
    "    'N_crit_im': 1000,\n",
    "\n",
    "    'mask_crit_fac': 0.2,\n",
    "    'crit_param_low': 0.1,\n",
    "    'crit_param_high': 10.\n",
    "}"
   ]
  },
  {
   "cell_type": "code",
   "execution_count": 9,
   "metadata": {},
   "outputs": [],
   "source": [
    "config['prior_settings'] = {\n",
    "    'MLz_prior_type': 'loguniform',\n",
    "    'MLz_min': 0.1,\n",
    "    'MLz_max': 2000.0,\n",
    "    'y_prior_type': 'uniform',\n",
    "    'y_min': 0.1,\n",
    "    'y_max': 5.0,\n",
    "    'lp_prior_type': 'uniform',\n",
    "    'lp_min': 0.1,\n",
    "    'lp_max': 10.,\n",
    "    'luminosity_distance_prior_type': 'uniform',\n",
    "    'luminosity_distance_min': 1.0,\n",
    "    'luminosity_distance_max': 5000.0,\n",
    "}"
   ]
  },
  {
   "cell_type": "code",
   "execution_count": 10,
   "metadata": {},
   "outputs": [],
   "source": [
    "config['waveform_arguments'] = dict(\n",
    "    waveform_approximant=\"IMRPhenomPv2\",\n",
    "    reference_frequency=50.0,\n",
    "    minimum_frequency=20.0)"
   ]
  },
  {
   "cell_type": "code",
   "execution_count": 11,
   "metadata": {},
   "outputs": [],
   "source": [
    "config['misc'] = { \n",
    "    'duration': 4.0,\n",
    "    'sampling_frequency': 2048.0,\n",
    "    'minimum_frequency': 20,\n",
    "    'seed': 88170235,\n",
    "    # 'outdir_ext': '',\n",
    "    'lp_name': 'lp',\n",
    "    'lp_latex': lens_param_latex,\n",
    "}"
   ]
  },
  {
   "cell_type": "code",
   "execution_count": 12,
   "metadata": {},
   "outputs": [],
   "source": [
    "config['sampler_settings'] = {\n",
    "    'sampler': 'dynesty',\n",
    "    'nlive': 1000}"
   ]
  },
  {
   "cell_type": "code",
   "execution_count": 13,
   "metadata": {},
   "outputs": [],
   "source": [
    "y_arr = [1.0]\n",
    "lp_arr = [2.0, 8.0]\n",
    "dL_arr = [500., 200., 100.]\n",
    "\n",
    "config_file_path_list = []\n",
    "\n",
    "for dL in dL_arr:\n",
    "    config[\"injection_parameters\"][\"luminosity_distance\"] = f'{dL:.1f}'\n",
    "    for y in y_arr:\n",
    "        config[\"injection_parameters\"][\"y\"] = f'{y:.4f}'\n",
    "        for lp in lp_arr:\n",
    "            config[\"injection_parameters\"][\"lp\"] = f'{lp:.4f}'\n",
    "            config_file_path = os.path.join(config_batch_dir, f\"MLz_{MLz:.1f}_dL_{dL:.1f}_y_{y:.4f}_{lens_param_name}_{lp:.4f}.ini\")\n",
    "\n",
    "            config['misc']['outdir_ext'] = batchname\n",
    "            with open(config_file_path, 'w') as configfile:\n",
    "                config.write(configfile)\n",
    "            config_file_path_list.append(os.path.abspath(config_file_path))"
   ]
  },
  {
   "cell_type": "code",
   "execution_count": 14,
   "metadata": {},
   "outputs": [
    {
     "data": {
      "text/plain": [
       "['/home/mcheung1/Lensing/Glworia_jax/glworia_jax/bilby_scripts/config/NFW_arr5_dL_uniform_crit_mask/MLz_25.0_dL_500.0_y_1.0000_kappa_2.0000.ini',\n",
       " '/home/mcheung1/Lensing/Glworia_jax/glworia_jax/bilby_scripts/config/NFW_arr5_dL_uniform_crit_mask/MLz_25.0_dL_500.0_y_1.0000_kappa_8.0000.ini',\n",
       " '/home/mcheung1/Lensing/Glworia_jax/glworia_jax/bilby_scripts/config/NFW_arr5_dL_uniform_crit_mask/MLz_25.0_dL_200.0_y_1.0000_kappa_2.0000.ini',\n",
       " '/home/mcheung1/Lensing/Glworia_jax/glworia_jax/bilby_scripts/config/NFW_arr5_dL_uniform_crit_mask/MLz_25.0_dL_200.0_y_1.0000_kappa_8.0000.ini',\n",
       " '/home/mcheung1/Lensing/Glworia_jax/glworia_jax/bilby_scripts/config/NFW_arr5_dL_uniform_crit_mask/MLz_25.0_dL_100.0_y_1.0000_kappa_2.0000.ini',\n",
       " '/home/mcheung1/Lensing/Glworia_jax/glworia_jax/bilby_scripts/config/NFW_arr5_dL_uniform_crit_mask/MLz_25.0_dL_100.0_y_1.0000_kappa_8.0000.ini']"
      ]
     },
     "execution_count": 14,
     "metadata": {},
     "output_type": "execute_result"
    }
   ],
   "source": [
    "config_file_path_list"
   ]
  },
  {
   "cell_type": "code",
   "execution_count": 15,
   "metadata": {},
   "outputs": [],
   "source": [
    "config_file_path_list_file = os.path.join(config_batch_dir, \"file_path.txt\")\n",
    "with open(config_file_path_list_file, 'w') as f:\n",
    "    for item in config_file_path_list:\n",
    "        f.write(\"%s\\n\" % item)"
   ]
  },
  {
   "cell_type": "code",
   "execution_count": 16,
   "metadata": {},
   "outputs": [],
   "source": [
    "cpus_per_task = 32"
   ]
  },
  {
   "cell_type": "code",
   "execution_count": 17,
   "metadata": {},
   "outputs": [],
   "source": [
    "slurm_script = f\"\"\"#!/bin/bash\n",
    "#SBATCH --job-name=\"{batchname}\"\n",
    "#SBATCH --output=\"{os.path.abspath(slurm_batch_out_dir)}/%A.%a.out\"\n",
    "#SBATCH --partition=shared\n",
    "#SBATCH --nodes=1\n",
    "#SBATCH --ntasks-per-node=1\n",
    "#SBATCH --cpus-per-task={cpus_per_task}\n",
    "#SBATCH --mem={cpus_per_task*2}Gb\n",
    "#SBATCH --account={account}\n",
    "#SBATCH -t 48:00:00\n",
    "#SBATCH --mail-type=ALL\n",
    "#SBATCH --mail-user={email}\n",
    "#SBATCH --array=0-{len(config_file_path_list)-1}\n",
    "\n",
    "pwd; hostname; date\n",
    "\n",
    "source {activate_path}\n",
    "export PYTHONPATH=$PYTHONPATH:{GLWORIA_PREFIX}\n",
    "export GLWORIA_PREFIX={GLWORIA_PREFIX}\n",
    "\n",
    "mapfile -t config_file_path_list < {os.path.abspath(config_file_path_list_file)}\n",
    "config_file_path=${{config_file_path_list[$SLURM_ARRAY_TASK_ID]}}\n",
    "echo $config_file_path\n",
    "\n",
    "python {GLWORIA_PREFIX}/bilby_scripts/PE_fast.py $config_file_path\"\"\""
   ]
  },
  {
   "cell_type": "code",
   "execution_count": 18,
   "metadata": {},
   "outputs": [],
   "source": [
    "slurm_script_path = os.path.join(slurm_dir, f\"{batchname}.sh\")\n",
    "with open(slurm_script_path, 'w') as f:\n",
    "    f.write(slurm_script)"
   ]
  },
  {
   "cell_type": "code",
   "execution_count": null,
   "metadata": {},
   "outputs": [],
   "source": []
  }
 ],
 "metadata": {
  "kernelspec": {
   "display_name": "Glworia_jax",
   "language": "python",
   "name": "python3"
  },
  "language_info": {
   "codemirror_mode": {
    "name": "ipython",
    "version": 3
   },
   "file_extension": ".py",
   "mimetype": "text/x-python",
   "name": "python",
   "nbconvert_exporter": "python",
   "pygments_lexer": "ipython3",
   "version": "3.8.5"
  },
  "orig_nbformat": 4
 },
 "nbformat": 4,
 "nbformat_minor": 2
}
