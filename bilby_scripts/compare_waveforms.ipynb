{
 "cells": [
  {
   "cell_type": "code",
   "execution_count": 3,
   "metadata": {},
   "outputs": [],
   "source": [
    "import os\n",
    "import sys\n",
    "import bilby\n",
    "\n",
    "import configparser\n",
    "import matplotlib.pyplot as plt"
   ]
  },
  {
   "cell_type": "code",
   "execution_count": 4,
   "metadata": {},
   "outputs": [],
   "source": [
    "project_dir = os.environ['GLWORIA_PREFIX']\n",
    "interpolator_dir = os.path.join(project_dir, 'interpolation')\n",
    "\n",
    "sys.path.append(project_dir)"
   ]
  },
  {
   "cell_type": "code",
   "execution_count": 5,
   "metadata": {},
   "outputs": [
    {
     "name": "stderr",
     "output_type": "stream",
     "text": [
      "08:44 bilby INFO    : Waveform generator initiated with\n",
      "  frequency_domain_source_model: bilby_scripts.waveform.lal_binary_black_hole_lensed\n",
      "  time_domain_source_model: None\n",
      "  parameter_conversion: bilby.gw.conversion.convert_to_lal_binary_black_hole_parameters\n"
     ]
    }
   ],
   "source": [
    "from glworia.load_interp import *\n",
    "from bilby_scripts.waveform import *\n",
    "\n",
    "config_path = './config/gSIS_arr1_fast_MLz_25/MLz_500_y_2.0000_kappa_1.0000.ini'\n",
    "runname = os.path.splitext(os.path.basename(config_path))[0]\n",
    "\n",
    "config = configparser.ConfigParser()\n",
    "config.optionxform = str\n",
    "config.read(config_path)\n",
    "\n",
    "injection_parameters = dict(config.items('injection_parameters'))\n",
    "interpolator_settings = dict(config.items('interpolator_settings'))\n",
    "prior_settings = dict(config.items('prior_settings'))\n",
    "waveform_arguments = dict(config.items('waveform_arguments'))\n",
    "sampler_settings = dict(config.items('sampler_settings'))\n",
    "misc = dict(config.items('misc'))\n",
    "\n",
    "outdir = os.path.join(project_dir, 'outdir', misc['outdir_ext'])\n",
    "\n",
    "def is_number(s):\n",
    "    try:\n",
    "        float(s)\n",
    "        return True\n",
    "    except ValueError:\n",
    "        return False\n",
    "\n",
    "# convert string to string, float, int, or bool in above dicts\n",
    "for d in [injection_parameters, interpolator_settings, prior_settings, waveform_arguments, sampler_settings, misc]:\n",
    "    for key, value in d.items():\n",
    "        if is_number(value):\n",
    "            d[key] = eval(value)\n",
    "        elif value == 'True':\n",
    "            d[key] = True\n",
    "        elif value == 'False':\n",
    "            d[key] = False\n",
    "\n",
    "lp_name = misc['lp_name']\n",
    "lp_latex = misc['lp_latex']\n",
    "\n",
    "# Set the duration and sampling frequency of the data segment that we're\n",
    "# going to inject the signal into\n",
    "duration = misc['duration']\n",
    "sampling_frequency = misc['sampling_frequency']\n",
    "minimum_frequency = misc['minimum_frequency']\n",
    "\n",
    "# Specify the output directory and the name of the simulation.\n",
    "label = runname\n",
    "outdir = os.path.join(outdir, misc['outdir_ext'], label)\n",
    "os.makedirs(outdir, exist_ok=True)\n",
    "\n",
    "bilby.core.utils.setup_logger(outdir=outdir, label=label)\n",
    "\n",
    "# Set up a random seed for result reproducibility.  This is optional!\n",
    "np.random.seed(misc['seed'])\n",
    "\n",
    "interpolators = load_interpolators(interpolator_dir, **interpolator_settings)\n",
    "F_interp_loaded = lambda w, y, lp: F_interp(w, y, lp, interpolators, interpolator_settings)\n",
    "\n",
    "# Fixed arguments passed into the source model\n",
    "waveform_arguments.update(F_interp = F_interp_loaded)\n",
    "\n",
    "# Create the waveform_generator using a LAL BinaryBlackHole source function\n",
    "# the generator will convert all the parameters\n",
    "waveform_generator = bilby.gw.WaveformGenerator(\n",
    "    duration=duration,\n",
    "    sampling_frequency=sampling_frequency,\n",
    "    frequency_domain_source_model=lal_binary_black_hole_lensed,\n",
    "    parameter_conversion=bilby.gw.conversion.convert_to_lal_binary_black_hole_parameters,\n",
    "    waveform_arguments=waveform_arguments,\n",
    ")\n"
   ]
  },
  {
   "cell_type": "code",
   "execution_count": 6,
   "metadata": {},
   "outputs": [
    {
     "name": "stderr",
     "output_type": "stream",
     "text": [
      "/home/mcheung1/Lensing/Glworia_jax/glworia_jax/glworia/load_interp.py:210: RuntimeWarning: divide by zero encountered in divide\n",
      "  return (1 + np.tanh((x - x0)/a))/2\n",
      "/home/mcheung1/Lensing/Glworia_jax/glworia_jax/glworia/load_interp.py:210: RuntimeWarning: invalid value encountered in divide\n",
      "  return (1 + np.tanh((x - x0)/a))/2\n",
      "08:44 bilby INFO    : Injected signal in H1:\n",
      "08:44 bilby INFO    :   optimal SNR = 60.88\n",
      "08:44 bilby INFO    :   matched filter SNR = 60.38-1.36j\n",
      "08:44 bilby INFO    :   mass_1 = 36.0\n",
      "08:44 bilby INFO    :   mass_2 = 29.0\n",
      "08:44 bilby INFO    :   a_1 = 0.4\n",
      "08:44 bilby INFO    :   a_2 = 0.3\n",
      "08:44 bilby INFO    :   tilt_1 = 0.5\n",
      "08:44 bilby INFO    :   tilt_2 = 1.0\n",
      "08:44 bilby INFO    :   phi_12 = 1.7\n",
      "08:44 bilby INFO    :   phi_jl = 0.3\n",
      "08:44 bilby INFO    :   luminosity_distance = 500.0\n",
      "08:44 bilby INFO    :   theta_jn = 0.4\n",
      "08:44 bilby INFO    :   psi = 2.659\n",
      "08:44 bilby INFO    :   phase = 1.3\n",
      "08:44 bilby INFO    :   MLz = 25.0\n",
      "08:44 bilby INFO    :   geocent_time = 1126259642.413\n",
      "08:44 bilby INFO    :   ra = 1.375\n",
      "08:44 bilby INFO    :   dec = -1.2108\n",
      "08:44 bilby INFO    :   y = 2.0\n",
      "08:44 bilby INFO    :   lp = 1.0\n",
      "08:44 bilby INFO    : Injected signal in L1:\n",
      "08:44 bilby INFO    :   optimal SNR = 49.26\n",
      "08:44 bilby INFO    :   matched filter SNR = 49.78+0.09j\n",
      "08:44 bilby INFO    :   mass_1 = 36.0\n",
      "08:44 bilby INFO    :   mass_2 = 29.0\n",
      "08:44 bilby INFO    :   a_1 = 0.4\n",
      "08:44 bilby INFO    :   a_2 = 0.3\n",
      "08:44 bilby INFO    :   tilt_1 = 0.5\n",
      "08:44 bilby INFO    :   tilt_2 = 1.0\n",
      "08:44 bilby INFO    :   phi_12 = 1.7\n",
      "08:44 bilby INFO    :   phi_jl = 0.3\n",
      "08:44 bilby INFO    :   luminosity_distance = 500.0\n",
      "08:44 bilby INFO    :   theta_jn = 0.4\n",
      "08:44 bilby INFO    :   psi = 2.659\n",
      "08:44 bilby INFO    :   phase = 1.3\n",
      "08:44 bilby INFO    :   MLz = 25.0\n",
      "08:44 bilby INFO    :   geocent_time = 1126259642.413\n",
      "08:44 bilby INFO    :   ra = 1.375\n",
      "08:44 bilby INFO    :   dec = -1.2108\n",
      "08:44 bilby INFO    :   y = 2.0\n",
      "08:44 bilby INFO    :   lp = 1.0\n"
     ]
    }
   ],
   "source": [
    "ifos = bilby.gw.detector.InterferometerList([\"H1\", \"L1\"])\n",
    "ifos.set_strain_data_from_power_spectral_densities(\n",
    "    sampling_frequency=sampling_frequency,\n",
    "    duration=duration,\n",
    "    start_time=injection_parameters[\"geocent_time\"] - 2,\n",
    ")\n",
    "strain = ifos.inject_signal(\n",
    "    waveform_generator=waveform_generator, parameters=injection_parameters\n",
    ")"
   ]
  },
  {
   "cell_type": "code",
   "execution_count": 11,
   "metadata": {},
   "outputs": [],
   "source": [
    "injection_parameters_2 = injection_parameters.copy()\n",
    "injection_parameters_2['luminosity_distance'] = 2800\n",
    "injection_parameters_2['y'] = 0.4\n",
    "injection_parameters_2['lp'] = 0.1 \n",
    "injection_parameters_2['MLz'] = 110"
   ]
  },
  {
   "cell_type": "code",
   "execution_count": 12,
   "metadata": {},
   "outputs": [
    {
     "name": "stderr",
     "output_type": "stream",
     "text": [
      "08:45 bilby INFO    : Injected signal in H1:\n",
      "08:45 bilby INFO    :   optimal SNR = 58.75\n",
      "08:45 bilby INFO    :   matched filter SNR = 173.94+0.43j\n",
      "08:45 bilby INFO    :   mass_1 = 36.0\n",
      "08:45 bilby INFO    :   mass_2 = 29.0\n",
      "08:45 bilby INFO    :   a_1 = 0.4\n",
      "08:45 bilby INFO    :   a_2 = 0.3\n",
      "08:45 bilby INFO    :   tilt_1 = 0.5\n",
      "08:45 bilby INFO    :   tilt_2 = 1.0\n",
      "08:45 bilby INFO    :   phi_12 = 1.7\n",
      "08:45 bilby INFO    :   phi_jl = 0.3\n",
      "08:45 bilby INFO    :   luminosity_distance = 2800\n",
      "08:45 bilby INFO    :   theta_jn = 0.4\n",
      "08:45 bilby INFO    :   psi = 2.659\n",
      "08:45 bilby INFO    :   phase = 1.3\n",
      "08:45 bilby INFO    :   MLz = 110\n",
      "08:45 bilby INFO    :   geocent_time = 1126259642.413\n",
      "08:45 bilby INFO    :   ra = 1.375\n",
      "08:45 bilby INFO    :   dec = -1.2108\n",
      "08:45 bilby INFO    :   y = 0.4\n",
      "08:45 bilby INFO    :   lp = 0.1\n",
      "08:45 bilby INFO    : Injected signal in L1:\n",
      "08:45 bilby INFO    :   optimal SNR = 47.54\n",
      "08:45 bilby INFO    :   matched filter SNR = 141.66+1.56j\n",
      "08:45 bilby INFO    :   mass_1 = 36.0\n",
      "08:45 bilby INFO    :   mass_2 = 29.0\n",
      "08:45 bilby INFO    :   a_1 = 0.4\n",
      "08:45 bilby INFO    :   a_2 = 0.3\n",
      "08:45 bilby INFO    :   tilt_1 = 0.5\n",
      "08:45 bilby INFO    :   tilt_2 = 1.0\n",
      "08:45 bilby INFO    :   phi_12 = 1.7\n",
      "08:45 bilby INFO    :   phi_jl = 0.3\n",
      "08:45 bilby INFO    :   luminosity_distance = 2800\n",
      "08:45 bilby INFO    :   theta_jn = 0.4\n",
      "08:45 bilby INFO    :   psi = 2.659\n",
      "08:45 bilby INFO    :   phase = 1.3\n",
      "08:45 bilby INFO    :   MLz = 110\n",
      "08:45 bilby INFO    :   geocent_time = 1126259642.413\n",
      "08:45 bilby INFO    :   ra = 1.375\n",
      "08:45 bilby INFO    :   dec = -1.2108\n",
      "08:45 bilby INFO    :   y = 0.4\n",
      "08:45 bilby INFO    :   lp = 0.1\n"
     ]
    }
   ],
   "source": [
    "strain_2 = ifos.inject_signal(\n",
    "    waveform_generator=waveform_generator, parameters=injection_parameters_2\n",
    ")"
   ]
  },
  {
   "cell_type": "code",
   "execution_count": 13,
   "metadata": {},
   "outputs": [
    {
     "data": {
      "text/plain": [
       "(1e-24, 1.556701700702105e-22)"
      ]
     },
     "execution_count": 13,
     "metadata": {},
     "output_type": "execute_result"
    },
    {
     "data": {
      "image/png": "[encoded data removed]",
      "text/plain": [
       "<Figure size 640x480 with 1 Axes>"
      ]
     },
     "metadata": {},
     "output_type": "display_data"
    }
   ],
   "source": [
    "plt.loglog(ifos.frequency_array, np.abs(strain[0]['plus']))\n",
    "plt.loglog(ifos.frequency_array, np.abs(strain_2[0]['plus']))\n",
    "\n",
    "plt.xlim(10, 5000)\n",
    "plt.ylim(1e-24, None)"
   ]
  },
  {
   "cell_type": "code",
   "execution_count": 14,
   "metadata": {},
   "outputs": [
    {
     "name": "stderr",
     "output_type": "stream",
     "text": [
      "/tmp/ipykernel_3135162/2857781713.py:1: RuntimeWarning: invalid value encountered in divide\n",
      "  plt.loglog(ifos.frequency_array, np.abs(strain[0]['plus'])/np.abs(strain_2[0]['plus']))\n"
     ]
    },
    {
     "data": {
      "text/plain": [
       "[<matplotlib.lines.Line2D at 0x1554f88f71c0>]"
      ]
     },
     "execution_count": 14,
     "metadata": {},
     "output_type": "execute_result"
    },
    {
     "data": {
      "image/png": "[encoded data removed]",
      "text/plain": [
       "<Figure size 640x480 with 1 Axes>"
      ]
     },
     "metadata": {},
     "output_type": "display_data"
    }
   ],
   "source": [
    "plt.loglog(ifos.frequency_array, np.abs(strain[0]['plus'])/np.abs(strain_2[0]['plus']))"
   ]
  },
  {
   "cell_type": "code",
   "execution_count": null,
   "metadata": {},
   "outputs": [],
   "source": []
  }
 ],
 "metadata": {
  "kernelspec": {
   "display_name": "Glworia_jax",
   "language": "python",
   "name": "python3"
  },
  "language_info": {
   "codemirror_mode": {
    "name": "ipython",
    "version": 3
   },
   "file_extension": ".py",
   "mimetype": "text/x-python",
   "name": "python",
   "nbconvert_exporter": "python",
   "pygments_lexer": "ipython3",
   "version": "3.8.5"
  },
  "orig_nbformat": 4
 },
 "nbformat": 4,
 "nbformat_minor": 2
}
