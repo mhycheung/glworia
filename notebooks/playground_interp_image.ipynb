{
 "cells": [
  {
   "cell_type": "code",
   "execution_count": 1,
   "metadata": {},
   "outputs": [],
   "source": [
    "import glworia.amplification_factor\n",
    "import glworia.lens_functions\n",
    "from glworia.amplification_factor import *\n",
    "from glworia.lens_functions import *\n",
    "import glworia.lens_functions\n",
    "from glworia.lens_functions import *\n",
    "import glworia.contour\n",
    "from glworia.contour import *\n",
    "import glworia.utils\n",
    "from glworia.utils import *\n",
    "import glworia.root\n",
    "from glworia.root import *\n",
    "import glworia.plot\n",
    "from glworia.plot import *"
   ]
  },
  {
   "cell_type": "code",
   "execution_count": 2,
   "metadata": {},
   "outputs": [],
   "source": [
    "from importlib import reload"
   ]
  },
  {
   "cell_type": "code",
   "execution_count": 3,
   "metadata": {},
   "outputs": [],
   "source": [
    "reload(glworia.amplification_factor)\n",
    "reload(glworia.lens_functions)\n",
    "from glworia.amplification_factor import *\n",
    "from glworia.lens_functions import *\n",
    "reload(glworia.lens_functions)\n",
    "from glworia.lens_functions import *\n",
    "reload(glworia.contour)\n",
    "from glworia.contour import *\n",
    "reload(glworia.utils)\n",
    "from glworia.utils import *\n",
    "reload(glworia.root)\n",
    "from glworia.root import *\n",
    "reload(glworia.plot)\n",
    "from glworia.plot import *"
   ]
  },
  {
   "cell_type": "code",
   "execution_count": 4,
   "metadata": {},
   "outputs": [],
   "source": [
    "from jax.config import config\n",
    "config.update(\"jax_enable_x64\", True)"
   ]
  },
  {
   "cell_type": "code",
   "execution_count": 5,
   "metadata": {},
   "outputs": [],
   "source": [
    "import matplotlib.pyplot as plt"
   ]
  },
  {
   "cell_type": "code",
   "execution_count": 6,
   "metadata": {},
   "outputs": [],
   "source": [
    "settings = {'newt_max_iter': 1000}\n",
    "T_funcs, helper_funcs = amplification_computation_prep(Psi_NFW, **settings)\n",
    "crit_curve_helper_funcs = make_crit_curve_helper_func(T_funcs)"
   ]
  },
  {
   "cell_type": "code",
   "execution_count": 7,
   "metadata": {},
   "outputs": [],
   "source": [
    "Psi_1D = T_funcs['Psi_1D']\n",
    "mu_vec = T_funcs['mu_vec']"
   ]
  },
  {
   "cell_type": "code",
   "execution_count": 8,
   "metadata": {},
   "outputs": [
    {
     "name": "stderr",
     "output_type": "stream",
     "text": [
      "2023-05-21 20:50:45.342976: W external/xla/xla/service/gpu/nvptx_compiler.cc:564] The NVIDIA driver's CUDA version is 12.0 which is older than the ptxas CUDA version (12.1.105). Because the driver is older than the ptxas version, XLA is disabling parallel compilation, which may slow down compilation. You should update your NVIDIA driver or use the NVIDIA-provided CUDA forward compatibility packages.\n"
     ]
    }
   ],
   "source": [
    "param_arr = jnp.linspace(0.1, 10., 100000)\n",
    "crit_funcs = crtical_curve_interpolants(param_arr, T_funcs, crit_curve_helper_funcs)"
   ]
  },
  {
   "cell_type": "code",
   "execution_count": 9,
   "metadata": {},
   "outputs": [],
   "source": [
    "N_grid = 1000\n",
    "kappa_low = 0.1\n",
    "kappa_high = 10.0\n",
    "y_low = 0.1\n",
    "y_high = 5.0\n",
    "N_crit = 1000\n",
    "kappa_arr = jnp.linspace(kappa_low, kappa_high, N_grid)\n",
    "y_arr = jnp.linspace(y_low, y_high, N_grid)"
   ]
  },
  {
   "cell_type": "code",
   "execution_count": 10,
   "metadata": {},
   "outputs": [],
   "source": [
    "grid_points = make_points_arr_mesh(y_arr, kappa_arr)"
   ]
  },
  {
   "cell_type": "code",
   "execution_count": 11,
   "metadata": {},
   "outputs": [],
   "source": [
    "lens_param_to_y_crit = crit_funcs['lens_param_to_y_crit']\n",
    "y_crit_to_lens_param = crit_funcs['y_crit_to_lens_param']\n",
    "y_crit_to_x_crit = crit_funcs['y_crit_to_x_crit']\n",
    "\n",
    "@partial(jnp.vectorize, signature = '(n,2)->(n)')\n",
    "def is_strong(point):\n",
    "    return lens_param_to_y_crit(point[:,1]) > point[:,0]"
   ]
  },
  {
   "cell_type": "code",
   "execution_count": 12,
   "metadata": {},
   "outputs": [],
   "source": [
    "weak_points = grid_points[~is_strong(grid_points)]\n",
    "strong_points = grid_points[is_strong(grid_points)]"
   ]
  },
  {
   "cell_type": "code",
   "execution_count": 13,
   "metadata": {},
   "outputs": [],
   "source": [
    "kappa_crit_points = jnp.linspace(kappa_low, kappa_high, num = N_crit)\n",
    "x_crit_points, y_crit_points = get_crit_curve_1D(kappa_crit_points, T_funcs, crit_curve_helper_funcs, x_hi = 100.)"
   ]
  },
  {
   "cell_type": "code",
   "execution_count": 14,
   "metadata": {},
   "outputs": [],
   "source": [
    "crit_points = jnp.vstack([y_crit_points, kappa_crit_points]).T"
   ]
  },
  {
   "cell_type": "code",
   "execution_count": 15,
   "metadata": {},
   "outputs": [],
   "source": [
    "boundary_crit_points = jnp.array([[y_arr[0], y_crit_to_lens_param(y_arr[0])],\n",
    "                                  [y_arr[-1], y_crit_to_lens_param(y_arr[-1])]])\n",
    "boundary_crit_points = boundary_crit_points[~jnp.isnan(boundary_crit_points).any(axis = 1)]"
   ]
  },
  {
   "cell_type": "code",
   "execution_count": 16,
   "metadata": {},
   "outputs": [],
   "source": [
    "crit_points_all = jnp.vstack([boundary_crit_points, crit_points])\n",
    "y_crit_points_all = jnp.append((boundary_crit_points[:,0]), y_crit_points)\n",
    "x_crit_points_all = jnp.append((y_crit_to_x_crit(boundary_crit_points[:,0])), -x_crit_points)\n",
    "kappa_crit_points_all = jnp.append((boundary_crit_points[:,1]), kappa_crit_points)\n",
    "\n",
    "in_bound = crit_points_all[:, 0] >= 0.1\n",
    "\n",
    "crit_points_in_bound = crit_points_all[in_bound]\n",
    "y_crit_points_in_bound = y_crit_points_all[in_bound]\n",
    "x_crit_points_in_bound = x_crit_points_all[in_bound]\n",
    "kappa_crit_points_in_bound = kappa_crit_points_all[in_bound]"
   ]
  },
  {
   "cell_type": "code",
   "execution_count": 17,
   "metadata": {},
   "outputs": [],
   "source": [
    "from scipy.interpolate import LinearNDInterpolator"
   ]
  },
  {
   "cell_type": "code",
   "execution_count": 18,
   "metadata": {},
   "outputs": [],
   "source": [
    "crit_bisect_x_low = -10\n",
    "crit_bisect_x_high = 10\n",
    "crit_bisect_x_num = 100\n",
    "crit_x_init_arr = jnp.linspace(\n",
    "    crit_bisect_x_low, \n",
    "    crit_bisect_x_high, \n",
    "    crit_bisect_x_num)\n",
    "\n",
    "crit_screen_round_decimal = 8\n",
    "\n",
    "newt_cond_fun = helper_funcs['newt_cond_fun']\n",
    "newt_step_fun = helper_funcs['newt_step_fun']\n",
    "\n",
    "get_crit_points_1D_vec = jnp.vectorize(\n",
    "    get_crit_points_1D, \n",
    "    excluded = {0, 1, 2, 5},\n",
    "    signature = '(),()->(3)')\n",
    "get_crit_points_2D_arr = lambda x: get_crit_points_1D_vec(\n",
    "    crit_x_init_arr, \n",
    "    newt_cond_fun, \n",
    "    newt_step_fun,  \n",
    "    x[:, 0], x[:, 1], \n",
    "    crit_screen_round_decimal)"
   ]
  },
  {
   "cell_type": "code",
   "execution_count": 19,
   "metadata": {},
   "outputs": [],
   "source": [
    "strong_image_x = get_crit_points_2D_arr(strong_points)\n",
    "strong_sad_x, strong_max_x, strong_min_x = jnp.hsplit(strong_image_x, strong_image_x.shape[1])"
   ]
  },
  {
   "cell_type": "code",
   "execution_count": 20,
   "metadata": {},
   "outputs": [],
   "source": [
    "weak_image_x = get_crit_points_2D_arr(weak_points)\n",
    "weak_sad_x, weak_max_x, weak_min_x = jnp.hsplit(weak_image_x, weak_image_x.shape[1])"
   ]
  },
  {
   "cell_type": "code",
   "execution_count": 21,
   "metadata": {},
   "outputs": [],
   "source": [
    "crit_image_x_newt = get_crit_points_2D_arr(crit_points_in_bound)\n",
    "crit_sad_x, crit_max_x, crit_min_x = jnp.hsplit(crit_image_x_newt, crit_image_x_newt.shape[1])"
   ]
  },
  {
   "cell_type": "code",
   "execution_count": 22,
   "metadata": {},
   "outputs": [],
   "source": [
    "crit_image_x = jnp.vstack([x_crit_points_in_bound, x_crit_points_in_bound, crit_min_x.ravel()]).T"
   ]
  },
  {
   "cell_type": "code",
   "execution_count": 23,
   "metadata": {},
   "outputs": [],
   "source": [
    "crit_sad_x, crit_max_x, crit_min_x = jnp.hsplit(crit_image_x, crit_image_x.shape[1])"
   ]
  },
  {
   "cell_type": "code",
   "execution_count": 24,
   "metadata": {},
   "outputs": [],
   "source": [
    "@partial(jnp.vectorize, excluded = {3}, signature = '(),(),()->()')\n",
    "@partial(jit, static_argnums = (3))\n",
    "def T_1D_vec(x, y, lens_params, Psi_1D):\n",
    "    lens_params = jnp.atleast_1d(lens_params)\n",
    "    return jnp.linalg.norm(x - y)**2/2 - Psi_1D(x, lens_params)"
   ]
  },
  {
   "cell_type": "code",
   "execution_count": 25,
   "metadata": {},
   "outputs": [],
   "source": [
    "strong_points_full = jnp.vstack([strong_points, crit_points_in_bound])"
   ]
  },
  {
   "cell_type": "code",
   "execution_count": 26,
   "metadata": {},
   "outputs": [],
   "source": [
    "strong_full_sad_x = jnp.concatenate([strong_sad_x, crit_sad_x]).T[0]\n",
    "strong_full_max_x = jnp.concatenate([strong_max_x, crit_max_x]).T[0]\n",
    "strong_full_min_x = jnp.concatenate([strong_min_x, crit_min_x]).T[0]"
   ]
  },
  {
   "cell_type": "code",
   "execution_count": 27,
   "metadata": {},
   "outputs": [],
   "source": [
    "strong_full_sad_T = T_1D_vec(strong_full_sad_x, strong_points_full[:,0], strong_points_full[:,1], Psi_1D)\n",
    "strong_full_max_T = T_1D_vec(strong_full_max_x, strong_points_full[:,0], strong_points_full[:,1], Psi_1D)\n",
    "strong_full_min_T = T_1D_vec(strong_full_min_x, strong_points_full[:,0], strong_points_full[:,1], Psi_1D)"
   ]
  },
  {
   "cell_type": "code",
   "execution_count": 28,
   "metadata": {},
   "outputs": [],
   "source": [
    "interp_strong_full_sad_T_adj = LinearNDInterpolator(strong_points_full, strong_full_sad_T - strong_full_min_T)\n",
    "interp_strong_full_max_T_adj = LinearNDInterpolator(strong_points_full, strong_full_max_T - strong_full_min_T)"
   ]
  },
  {
   "cell_type": "code",
   "execution_count": 29,
   "metadata": {},
   "outputs": [],
   "source": [
    "import pickle\n",
    "import os\n",
    "\n",
    "interp_name = f'NFW_y_{y_low:.3f}_{y_high:.3f}_kappa_{kappa_low:.3f}_{kappa_high:.3f}_N_{N_grid}_N_crit_{N_crit}'\n",
    "os.makedirs(f'./interpolation/{interp_name}', exist_ok = True)\n",
    "\n",
    "with open(f'./interpolation/{interp_name}/strong_full_sad_T_adj.pkl', 'wb') as f:\n",
    "    pickle.dump(interp_strong_full_sad_T_adj, f)\n",
    "\n",
    "with open(f'./interpolation/{interp_name}/strong_full_max_T_adj.pkl', 'wb') as f:\n",
    "    pickle.dump(interp_strong_full_max_T_adj, f)"
   ]
  },
  {
   "cell_type": "code",
   "execution_count": 30,
   "metadata": {},
   "outputs": [],
   "source": [
    "strong_full_sad_mu = jnp.abs(mu_vec(strong_full_sad_x, strong_points_full[:,1]))\n",
    "strong_full_max_mu = jnp.abs(mu_vec(strong_full_max_x, strong_points_full[:,1]))\n",
    "strong_full_min_mu = jnp.abs(mu_vec(strong_full_min_x, strong_points_full[:,1]))"
   ]
  },
  {
   "cell_type": "code",
   "execution_count": 31,
   "metadata": {},
   "outputs": [],
   "source": [
    "interp_strong_full_sad_mu = LinearNDInterpolator(strong_points_full, strong_full_sad_mu)\n",
    "interp_strong_full_max_mu = LinearNDInterpolator(strong_points_full, strong_full_max_mu)\n",
    "interp_strong_full_min_mu = LinearNDInterpolator(strong_points_full, strong_full_min_mu)"
   ]
  },
  {
   "cell_type": "code",
   "execution_count": 32,
   "metadata": {},
   "outputs": [],
   "source": [
    "with open(f'./interpolation/{interp_name}/strong_full_sad_mu.pkl', 'wb') as f:\n",
    "    pickle.dump(interp_strong_full_sad_mu, f)\n",
    "\n",
    "with open(f'./interpolation/{interp_name}/strong_full_max_mu.pkl', 'wb') as f:\n",
    "    pickle.dump(interp_strong_full_max_mu, f)\n",
    "\n",
    "with open(f'./interpolation/{interp_name}/strong_full_min_mu.pkl', 'wb') as f:\n",
    "    pickle.dump(interp_strong_full_min_mu, f)"
   ]
  },
  {
   "cell_type": "code",
   "execution_count": 36,
   "metadata": {},
   "outputs": [],
   "source": [
    "y_interp = jnp.linspace(0.1, 5.0, 234)\n",
    "kappa_interp = jnp.linspace(0.1, 10.0, 234)\n",
    "\n",
    "y_interp_mesh, kappa_interp_mesh = jnp.meshgrid(y_interp, kappa_interp)\n",
    "T_interp_sad = interp_strong_full_sad_T_adj(y_interp_mesh, kappa_interp_mesh)\n",
    "T_interp_max = interp_strong_full_max_T_adj(y_interp_mesh, kappa_interp_mesh)\n",
    "mu_interp_sad = interp_strong_full_sad_mu(y_interp_mesh, kappa_interp_mesh)\n",
    "mu_interp_max = interp_strong_full_max_mu(y_interp_mesh, kappa_interp_mesh)"
   ]
  },
  {
   "cell_type": "code",
   "execution_count": 41,
   "metadata": {},
   "outputs": [
    {
     "data": {
      "text/plain": [
       "<matplotlib.colorbar.Colorbar at 0x7f60b5598c10>"
      ]
     },
     "execution_count": 41,
     "metadata": {},
     "output_type": "execute_result"
    },
    {
     "data": {
      "image/png": "[encoded data removed]",
      "text/plain": [
       "<Figure size 640x480 with 2 Axes>"
      ]
     },
     "metadata": {},
     "output_type": "display_data"
    }
   ],
   "source": [
    "# plot with colorbar\n",
    "CS = plt.scatter(strong_points_full[:,0], strong_points_full[:,1], c = np.log10(strong_full_sad_mu), s = 1)\n",
    "plt.colorbar(CS)"
   ]
  },
  {
   "cell_type": "code",
   "execution_count": 33,
   "metadata": {},
   "outputs": [
    {
     "data": {
      "text/plain": [
       "<matplotlib.contour.QuadContourSet at 0x7f58181a10a0>"
      ]
     },
     "execution_count": 33,
     "metadata": {},
     "output_type": "execute_result"
    },
    {
     "data": {
      "image/png": "[encoded data removed]",
      "text/plain": [
       "<Figure size 640x480 with 1 Axes>"
      ]
     },
     "metadata": {},
     "output_type": "display_data"
    }
   ],
   "source": [
    "plt.contour(y_interp, kappa_interp, T_interp_max, 20)"
   ]
  },
  {
   "cell_type": "code",
   "execution_count": 156,
   "metadata": {},
   "outputs": [],
   "source": [
    "reload(glworia.amplification_factor)\n",
    "reload(glworia.lens_functions)\n",
    "from glworia.amplification_factor import *\n",
    "from glworia.lens_functions import *\n",
    "reload(glworia.lens_functions)\n",
    "from glworia.lens_functions import *\n",
    "reload(glworia.contour)\n",
    "from glworia.contour import *\n",
    "reload(glworia.utils)\n",
    "from glworia.utils import *\n",
    "reload(glworia.root)\n",
    "from glworia.root import *\n",
    "reload(glworia.plot)\n",
    "from glworia.plot import *"
   ]
  },
  {
   "cell_type": "code",
   "execution_count": null,
   "metadata": {},
   "outputs": [],
   "source": []
  }
 ],
 "metadata": {
  "kernelspec": {
   "display_name": "glworia",
   "language": "python",
   "name": "python3"
  },
  "language_info": {
   "codemirror_mode": {
    "name": "ipython",
    "version": 3
   },
   "file_extension": ".py",
   "mimetype": "text/x-python",
   "name": "python",
   "nbconvert_exporter": "python",
   "pygments_lexer": "ipython3",
   "version": "3.9.2"
  },
  "orig_nbformat": 4
 },
 "nbformat": 4,
 "nbformat_minor": 2
}
